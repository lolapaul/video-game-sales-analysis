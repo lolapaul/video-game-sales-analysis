{
 "cells": [
  {
   "cell_type": "markdown",
   "metadata": {},
   "source": [
    "# Análisis de una tienda online videojuegos\n",
    "El presente proyecto tiene como objetivo identificar patrones que determinen si un juego tiene éxito o no, y con esto, poder determinar proyectos prometedores y planifica campañas publicitarias"
   ]
  },
  {
   "cell_type": "markdown",
   "metadata": {},
   "source": [
    "## Revisión y preparación del dataset"
   ]
  },
  {
   "cell_type": "code",
   "execution_count": 64,
   "metadata": {},
   "outputs": [],
   "source": [
    "#Importar librerias necesarias para el análisis\n",
    "\n",
    "import pandas as pd\n",
    "import numpy as np\n",
    "import matplotlib.pyplot as plt\n",
    "from scipy import stats\n",
    "\n",
    "\n",
    "# Abrir el dataset con el comportamiento de las ventas\n",
    "\n",
    "sales = pd.read_csv('/Users/dvillanueva/Data_science/Tripleten/Sprint6/games.csv')"
   ]
  },
  {
   "cell_type": "code",
   "execution_count": 65,
   "metadata": {},
   "outputs": [
    {
     "data": {
      "text/html": [
       "<div>\n",
       "<style scoped>\n",
       "    .dataframe tbody tr th:only-of-type {\n",
       "        vertical-align: middle;\n",
       "    }\n",
       "\n",
       "    .dataframe tbody tr th {\n",
       "        vertical-align: top;\n",
       "    }\n",
       "\n",
       "    .dataframe thead th {\n",
       "        text-align: right;\n",
       "    }\n",
       "</style>\n",
       "<table border=\"1\" class=\"dataframe\">\n",
       "  <thead>\n",
       "    <tr style=\"text-align: right;\">\n",
       "      <th></th>\n",
       "      <th>Name</th>\n",
       "      <th>Platform</th>\n",
       "      <th>Year_of_Release</th>\n",
       "      <th>Genre</th>\n",
       "      <th>NA_sales</th>\n",
       "      <th>EU_sales</th>\n",
       "      <th>JP_sales</th>\n",
       "      <th>Other_sales</th>\n",
       "      <th>Critic_Score</th>\n",
       "      <th>User_Score</th>\n",
       "      <th>Rating</th>\n",
       "    </tr>\n",
       "  </thead>\n",
       "  <tbody>\n",
       "    <tr>\n",
       "      <th>0</th>\n",
       "      <td>Wii Sports</td>\n",
       "      <td>Wii</td>\n",
       "      <td>2006.0</td>\n",
       "      <td>Sports</td>\n",
       "      <td>41.36</td>\n",
       "      <td>28.96</td>\n",
       "      <td>3.77</td>\n",
       "      <td>8.45</td>\n",
       "      <td>76.0</td>\n",
       "      <td>8</td>\n",
       "      <td>E</td>\n",
       "    </tr>\n",
       "    <tr>\n",
       "      <th>1</th>\n",
       "      <td>Super Mario Bros.</td>\n",
       "      <td>NES</td>\n",
       "      <td>1985.0</td>\n",
       "      <td>Platform</td>\n",
       "      <td>29.08</td>\n",
       "      <td>3.58</td>\n",
       "      <td>6.81</td>\n",
       "      <td>0.77</td>\n",
       "      <td>NaN</td>\n",
       "      <td>NaN</td>\n",
       "      <td>NaN</td>\n",
       "    </tr>\n",
       "    <tr>\n",
       "      <th>2</th>\n",
       "      <td>Mario Kart Wii</td>\n",
       "      <td>Wii</td>\n",
       "      <td>2008.0</td>\n",
       "      <td>Racing</td>\n",
       "      <td>15.68</td>\n",
       "      <td>12.76</td>\n",
       "      <td>3.79</td>\n",
       "      <td>3.29</td>\n",
       "      <td>82.0</td>\n",
       "      <td>8.3</td>\n",
       "      <td>E</td>\n",
       "    </tr>\n",
       "    <tr>\n",
       "      <th>3</th>\n",
       "      <td>Wii Sports Resort</td>\n",
       "      <td>Wii</td>\n",
       "      <td>2009.0</td>\n",
       "      <td>Sports</td>\n",
       "      <td>15.61</td>\n",
       "      <td>10.93</td>\n",
       "      <td>3.28</td>\n",
       "      <td>2.95</td>\n",
       "      <td>80.0</td>\n",
       "      <td>8</td>\n",
       "      <td>E</td>\n",
       "    </tr>\n",
       "    <tr>\n",
       "      <th>4</th>\n",
       "      <td>Pokemon Red/Pokemon Blue</td>\n",
       "      <td>GB</td>\n",
       "      <td>1996.0</td>\n",
       "      <td>Role-Playing</td>\n",
       "      <td>11.27</td>\n",
       "      <td>8.89</td>\n",
       "      <td>10.22</td>\n",
       "      <td>1.00</td>\n",
       "      <td>NaN</td>\n",
       "      <td>NaN</td>\n",
       "      <td>NaN</td>\n",
       "    </tr>\n",
       "  </tbody>\n",
       "</table>\n",
       "</div>"
      ],
      "text/plain": [
       "                       Name Platform  Year_of_Release         Genre  NA_sales  \\\n",
       "0                Wii Sports      Wii           2006.0        Sports     41.36   \n",
       "1         Super Mario Bros.      NES           1985.0      Platform     29.08   \n",
       "2            Mario Kart Wii      Wii           2008.0        Racing     15.68   \n",
       "3         Wii Sports Resort      Wii           2009.0        Sports     15.61   \n",
       "4  Pokemon Red/Pokemon Blue       GB           1996.0  Role-Playing     11.27   \n",
       "\n",
       "   EU_sales  JP_sales  Other_sales  Critic_Score User_Score Rating  \n",
       "0     28.96      3.77         8.45          76.0          8      E  \n",
       "1      3.58      6.81         0.77           NaN        NaN    NaN  \n",
       "2     12.76      3.79         3.29          82.0        8.3      E  \n",
       "3     10.93      3.28         2.95          80.0          8      E  \n",
       "4      8.89     10.22         1.00           NaN        NaN    NaN  "
      ]
     },
     "execution_count": 65,
     "metadata": {},
     "output_type": "execute_result"
    }
   ],
   "source": [
    "# Imprimir las primeras 5 filas del dataset\n",
    "sales.head()"
   ]
  },
  {
   "cell_type": "code",
   "execution_count": 66,
   "metadata": {},
   "outputs": [],
   "source": [
    "# Poner los nombres de las columnas en minúsculas\n",
    "sales.columns = sales.columns.str.lower()\n"
   ]
  },
  {
   "cell_type": "code",
   "execution_count": 67,
   "metadata": {},
   "outputs": [
    {
     "data": {
      "text/html": [
       "<div>\n",
       "<style scoped>\n",
       "    .dataframe tbody tr th:only-of-type {\n",
       "        vertical-align: middle;\n",
       "    }\n",
       "\n",
       "    .dataframe tbody tr th {\n",
       "        vertical-align: top;\n",
       "    }\n",
       "\n",
       "    .dataframe thead th {\n",
       "        text-align: right;\n",
       "    }\n",
       "</style>\n",
       "<table border=\"1\" class=\"dataframe\">\n",
       "  <thead>\n",
       "    <tr style=\"text-align: right;\">\n",
       "      <th></th>\n",
       "      <th>name</th>\n",
       "      <th>platform</th>\n",
       "      <th>year_of_release</th>\n",
       "      <th>genre</th>\n",
       "      <th>na_sales</th>\n",
       "      <th>eu_sales</th>\n",
       "      <th>jp_sales</th>\n",
       "      <th>other_sales</th>\n",
       "      <th>critic_score</th>\n",
       "      <th>user_score</th>\n",
       "      <th>rating</th>\n",
       "    </tr>\n",
       "  </thead>\n",
       "  <tbody>\n",
       "    <tr>\n",
       "      <th>0</th>\n",
       "      <td>Wii Sports</td>\n",
       "      <td>Wii</td>\n",
       "      <td>2006.0</td>\n",
       "      <td>Sports</td>\n",
       "      <td>41.36</td>\n",
       "      <td>28.96</td>\n",
       "      <td>3.77</td>\n",
       "      <td>8.45</td>\n",
       "      <td>76.0</td>\n",
       "      <td>8</td>\n",
       "      <td>E</td>\n",
       "    </tr>\n",
       "    <tr>\n",
       "      <th>1</th>\n",
       "      <td>Super Mario Bros.</td>\n",
       "      <td>NES</td>\n",
       "      <td>1985.0</td>\n",
       "      <td>Platform</td>\n",
       "      <td>29.08</td>\n",
       "      <td>3.58</td>\n",
       "      <td>6.81</td>\n",
       "      <td>0.77</td>\n",
       "      <td>NaN</td>\n",
       "      <td>NaN</td>\n",
       "      <td>NaN</td>\n",
       "    </tr>\n",
       "    <tr>\n",
       "      <th>2</th>\n",
       "      <td>Mario Kart Wii</td>\n",
       "      <td>Wii</td>\n",
       "      <td>2008.0</td>\n",
       "      <td>Racing</td>\n",
       "      <td>15.68</td>\n",
       "      <td>12.76</td>\n",
       "      <td>3.79</td>\n",
       "      <td>3.29</td>\n",
       "      <td>82.0</td>\n",
       "      <td>8.3</td>\n",
       "      <td>E</td>\n",
       "    </tr>\n",
       "    <tr>\n",
       "      <th>3</th>\n",
       "      <td>Wii Sports Resort</td>\n",
       "      <td>Wii</td>\n",
       "      <td>2009.0</td>\n",
       "      <td>Sports</td>\n",
       "      <td>15.61</td>\n",
       "      <td>10.93</td>\n",
       "      <td>3.28</td>\n",
       "      <td>2.95</td>\n",
       "      <td>80.0</td>\n",
       "      <td>8</td>\n",
       "      <td>E</td>\n",
       "    </tr>\n",
       "    <tr>\n",
       "      <th>4</th>\n",
       "      <td>Pokemon Red/Pokemon Blue</td>\n",
       "      <td>GB</td>\n",
       "      <td>1996.0</td>\n",
       "      <td>Role-Playing</td>\n",
       "      <td>11.27</td>\n",
       "      <td>8.89</td>\n",
       "      <td>10.22</td>\n",
       "      <td>1.00</td>\n",
       "      <td>NaN</td>\n",
       "      <td>NaN</td>\n",
       "      <td>NaN</td>\n",
       "    </tr>\n",
       "  </tbody>\n",
       "</table>\n",
       "</div>"
      ],
      "text/plain": [
       "                       name platform  year_of_release         genre  na_sales  \\\n",
       "0                Wii Sports      Wii           2006.0        Sports     41.36   \n",
       "1         Super Mario Bros.      NES           1985.0      Platform     29.08   \n",
       "2            Mario Kart Wii      Wii           2008.0        Racing     15.68   \n",
       "3         Wii Sports Resort      Wii           2009.0        Sports     15.61   \n",
       "4  Pokemon Red/Pokemon Blue       GB           1996.0  Role-Playing     11.27   \n",
       "\n",
       "   eu_sales  jp_sales  other_sales  critic_score user_score rating  \n",
       "0     28.96      3.77         8.45          76.0          8      E  \n",
       "1      3.58      6.81         0.77           NaN        NaN    NaN  \n",
       "2     12.76      3.79         3.29          82.0        8.3      E  \n",
       "3     10.93      3.28         2.95          80.0          8      E  \n",
       "4      8.89     10.22         1.00           NaN        NaN    NaN  "
      ]
     },
     "execution_count": 67,
     "metadata": {},
     "output_type": "execute_result"
    }
   ],
   "source": [
    "# Revisar que se haya hecho el cambio de las columnas a minúsculas\n",
    "sales.head()"
   ]
  },
  {
   "cell_type": "code",
   "execution_count": 68,
   "metadata": {},
   "outputs": [
    {
     "name": "stdout",
     "output_type": "stream",
     "text": [
      "<class 'pandas.core.frame.DataFrame'>\n",
      "RangeIndex: 16715 entries, 0 to 16714\n",
      "Data columns (total 11 columns):\n",
      " #   Column           Non-Null Count  Dtype  \n",
      "---  ------           --------------  -----  \n",
      " 0   name             16713 non-null  object \n",
      " 1   platform         16715 non-null  object \n",
      " 2   year_of_release  16446 non-null  float64\n",
      " 3   genre            16713 non-null  object \n",
      " 4   na_sales         16715 non-null  float64\n",
      " 5   eu_sales         16715 non-null  float64\n",
      " 6   jp_sales         16715 non-null  float64\n",
      " 7   other_sales      16715 non-null  float64\n",
      " 8   critic_score     8137 non-null   float64\n",
      " 9   user_score       10014 non-null  object \n",
      " 10  rating           9949 non-null   object \n",
      "dtypes: float64(6), object(5)\n",
      "memory usage: 1.4+ MB\n"
     ]
    }
   ],
   "source": [
    "# Revisar los data types de las columnas y la cantidad de datos faltantes\n",
    "sales.info()"
   ]
  },
  {
   "cell_type": "markdown",
   "metadata": {},
   "source": [
    "Se puede apreciar que a la columna name y genre solamente tienen dos valores NaN, vamos revisar su información"
   ]
  },
  {
   "cell_type": "code",
   "execution_count": 69,
   "metadata": {},
   "outputs": [
    {
     "data": {
      "text/html": [
       "<div>\n",
       "<style scoped>\n",
       "    .dataframe tbody tr th:only-of-type {\n",
       "        vertical-align: middle;\n",
       "    }\n",
       "\n",
       "    .dataframe tbody tr th {\n",
       "        vertical-align: top;\n",
       "    }\n",
       "\n",
       "    .dataframe thead th {\n",
       "        text-align: right;\n",
       "    }\n",
       "</style>\n",
       "<table border=\"1\" class=\"dataframe\">\n",
       "  <thead>\n",
       "    <tr style=\"text-align: right;\">\n",
       "      <th></th>\n",
       "      <th>name</th>\n",
       "      <th>platform</th>\n",
       "      <th>year_of_release</th>\n",
       "      <th>genre</th>\n",
       "      <th>na_sales</th>\n",
       "      <th>eu_sales</th>\n",
       "      <th>jp_sales</th>\n",
       "      <th>other_sales</th>\n",
       "      <th>critic_score</th>\n",
       "      <th>user_score</th>\n",
       "      <th>rating</th>\n",
       "    </tr>\n",
       "  </thead>\n",
       "  <tbody>\n",
       "    <tr>\n",
       "      <th>659</th>\n",
       "      <td>NaN</td>\n",
       "      <td>GEN</td>\n",
       "      <td>1993.0</td>\n",
       "      <td>NaN</td>\n",
       "      <td>1.78</td>\n",
       "      <td>0.53</td>\n",
       "      <td>0.00</td>\n",
       "      <td>0.08</td>\n",
       "      <td>NaN</td>\n",
       "      <td>NaN</td>\n",
       "      <td>NaN</td>\n",
       "    </tr>\n",
       "    <tr>\n",
       "      <th>14244</th>\n",
       "      <td>NaN</td>\n",
       "      <td>GEN</td>\n",
       "      <td>1993.0</td>\n",
       "      <td>NaN</td>\n",
       "      <td>0.00</td>\n",
       "      <td>0.00</td>\n",
       "      <td>0.03</td>\n",
       "      <td>0.00</td>\n",
       "      <td>NaN</td>\n",
       "      <td>NaN</td>\n",
       "      <td>NaN</td>\n",
       "    </tr>\n",
       "  </tbody>\n",
       "</table>\n",
       "</div>"
      ],
      "text/plain": [
       "      name platform  year_of_release genre  na_sales  eu_sales  jp_sales  \\\n",
       "659    NaN      GEN           1993.0   NaN      1.78      0.53      0.00   \n",
       "14244  NaN      GEN           1993.0   NaN      0.00      0.00      0.03   \n",
       "\n",
       "       other_sales  critic_score user_score rating  \n",
       "659           0.08           NaN        NaN    NaN  \n",
       "14244         0.00           NaN        NaN    NaN  "
      ]
     },
     "execution_count": 69,
     "metadata": {},
     "output_type": "execute_result"
    }
   ],
   "source": [
    "# Revisar datos faltantes columna name y genre\n",
    "na_name = sales[sales[\"name\"].isna()]\n",
    "na_name"
   ]
  },
  {
   "cell_type": "markdown",
   "metadata": {},
   "source": [
    "La columna name y genre comparten que cuando a una le hace falta un valor a la otra también, inclusive también en las columnas que comparte como critic_score, user_score y rating. Entonces, considero que es valido eliminar esas dos filas de nuestra dataset."
   ]
  },
  {
   "cell_type": "code",
   "execution_count": 70,
   "metadata": {},
   "outputs": [],
   "source": [
    "#Eliminar los datos faltantes de la columna name y genre\n",
    "sales = sales.dropna(subset=['name', 'genre'])"
   ]
  },
  {
   "cell_type": "code",
   "execution_count": 71,
   "metadata": {},
   "outputs": [
    {
     "name": "stdout",
     "output_type": "stream",
     "text": [
      "<class 'pandas.core.frame.DataFrame'>\n",
      "Index: 16713 entries, 0 to 16714\n",
      "Data columns (total 11 columns):\n",
      " #   Column           Non-Null Count  Dtype  \n",
      "---  ------           --------------  -----  \n",
      " 0   name             16713 non-null  object \n",
      " 1   platform         16713 non-null  object \n",
      " 2   year_of_release  16444 non-null  float64\n",
      " 3   genre            16713 non-null  object \n",
      " 4   na_sales         16713 non-null  float64\n",
      " 5   eu_sales         16713 non-null  float64\n",
      " 6   jp_sales         16713 non-null  float64\n",
      " 7   other_sales      16713 non-null  float64\n",
      " 8   critic_score     8137 non-null   float64\n",
      " 9   user_score       10014 non-null  object \n",
      " 10  rating           9949 non-null   object \n",
      "dtypes: float64(6), object(5)\n",
      "memory usage: 1.5+ MB\n"
     ]
    }
   ],
   "source": [
    "# Revisar que se hayan eliminado los datos NaN\n",
    "sales.info()"
   ]
  },
  {
   "cell_type": "markdown",
   "metadata": {},
   "source": [
    "Al eliminar las dos filas nos quedamos con un dataset de 16713 filas"
   ]
  },
  {
   "cell_type": "code",
   "execution_count": 72,
   "metadata": {},
   "outputs": [
    {
     "data": {
      "text/html": [
       "<div>\n",
       "<style scoped>\n",
       "    .dataframe tbody tr th:only-of-type {\n",
       "        vertical-align: middle;\n",
       "    }\n",
       "\n",
       "    .dataframe tbody tr th {\n",
       "        vertical-align: top;\n",
       "    }\n",
       "\n",
       "    .dataframe thead th {\n",
       "        text-align: right;\n",
       "    }\n",
       "</style>\n",
       "<table border=\"1\" class=\"dataframe\">\n",
       "  <thead>\n",
       "    <tr style=\"text-align: right;\">\n",
       "      <th></th>\n",
       "      <th>name</th>\n",
       "      <th>platform</th>\n",
       "      <th>year_of_release</th>\n",
       "      <th>genre</th>\n",
       "      <th>na_sales</th>\n",
       "      <th>eu_sales</th>\n",
       "      <th>jp_sales</th>\n",
       "      <th>other_sales</th>\n",
       "      <th>critic_score</th>\n",
       "      <th>user_score</th>\n",
       "      <th>rating</th>\n",
       "    </tr>\n",
       "  </thead>\n",
       "  <tbody>\n",
       "    <tr>\n",
       "      <th>12235</th>\n",
       "      <td>National Geographic Challenge!</td>\n",
       "      <td>X360</td>\n",
       "      <td>NaN</td>\n",
       "      <td>Misc</td>\n",
       "      <td>0.06</td>\n",
       "      <td>0.00</td>\n",
       "      <td>0.00</td>\n",
       "      <td>0.00</td>\n",
       "      <td>NaN</td>\n",
       "      <td>NaN</td>\n",
       "      <td>NaN</td>\n",
       "    </tr>\n",
       "    <tr>\n",
       "      <th>10764</th>\n",
       "      <td>Luminous Arc 2 (JP sales)</td>\n",
       "      <td>DS</td>\n",
       "      <td>NaN</td>\n",
       "      <td>Role-Playing</td>\n",
       "      <td>0.00</td>\n",
       "      <td>0.00</td>\n",
       "      <td>0.10</td>\n",
       "      <td>0.00</td>\n",
       "      <td>NaN</td>\n",
       "      <td>NaN</td>\n",
       "      <td>NaN</td>\n",
       "    </tr>\n",
       "    <tr>\n",
       "      <th>1301</th>\n",
       "      <td>Triple Play 99</td>\n",
       "      <td>PS</td>\n",
       "      <td>NaN</td>\n",
       "      <td>Sports</td>\n",
       "      <td>0.81</td>\n",
       "      <td>0.55</td>\n",
       "      <td>0.00</td>\n",
       "      <td>0.10</td>\n",
       "      <td>NaN</td>\n",
       "      <td>NaN</td>\n",
       "      <td>NaN</td>\n",
       "    </tr>\n",
       "    <tr>\n",
       "      <th>5070</th>\n",
       "      <td>The Golden Compass</td>\n",
       "      <td>PSP</td>\n",
       "      <td>NaN</td>\n",
       "      <td>Action</td>\n",
       "      <td>0.11</td>\n",
       "      <td>0.16</td>\n",
       "      <td>0.00</td>\n",
       "      <td>0.10</td>\n",
       "      <td>28.0</td>\n",
       "      <td>4.1</td>\n",
       "      <td>E10+</td>\n",
       "    </tr>\n",
       "    <tr>\n",
       "      <th>12718</th>\n",
       "      <td>Flip's Twisted World</td>\n",
       "      <td>Wii</td>\n",
       "      <td>NaN</td>\n",
       "      <td>Platform</td>\n",
       "      <td>0.05</td>\n",
       "      <td>0.00</td>\n",
       "      <td>0.00</td>\n",
       "      <td>0.00</td>\n",
       "      <td>47.0</td>\n",
       "      <td>tbd</td>\n",
       "      <td>E</td>\n",
       "    </tr>\n",
       "    <tr>\n",
       "      <th>10486</th>\n",
       "      <td>Atsumare! Power Pro Kun no DS Koushien</td>\n",
       "      <td>DS</td>\n",
       "      <td>NaN</td>\n",
       "      <td>Sports</td>\n",
       "      <td>0.00</td>\n",
       "      <td>0.00</td>\n",
       "      <td>0.10</td>\n",
       "      <td>0.00</td>\n",
       "      <td>NaN</td>\n",
       "      <td>NaN</td>\n",
       "      <td>NaN</td>\n",
       "    </tr>\n",
       "    <tr>\n",
       "      <th>4437</th>\n",
       "      <td>Super Breakout</td>\n",
       "      <td>2600</td>\n",
       "      <td>NaN</td>\n",
       "      <td>Puzzle</td>\n",
       "      <td>0.41</td>\n",
       "      <td>0.03</td>\n",
       "      <td>0.00</td>\n",
       "      <td>0.00</td>\n",
       "      <td>NaN</td>\n",
       "      <td>NaN</td>\n",
       "      <td>NaN</td>\n",
       "    </tr>\n",
       "    <tr>\n",
       "      <th>14325</th>\n",
       "      <td>Beyond the Labyrinth</td>\n",
       "      <td>3DS</td>\n",
       "      <td>NaN</td>\n",
       "      <td>Role-Playing</td>\n",
       "      <td>0.00</td>\n",
       "      <td>0.00</td>\n",
       "      <td>0.03</td>\n",
       "      <td>0.00</td>\n",
       "      <td>NaN</td>\n",
       "      <td>NaN</td>\n",
       "      <td>NaN</td>\n",
       "    </tr>\n",
       "    <tr>\n",
       "      <th>14769</th>\n",
       "      <td>Super Duper Sumos</td>\n",
       "      <td>GBA</td>\n",
       "      <td>NaN</td>\n",
       "      <td>Action</td>\n",
       "      <td>0.02</td>\n",
       "      <td>0.01</td>\n",
       "      <td>0.00</td>\n",
       "      <td>0.00</td>\n",
       "      <td>57.0</td>\n",
       "      <td>tbd</td>\n",
       "      <td>E</td>\n",
       "    </tr>\n",
       "    <tr>\n",
       "      <th>8680</th>\n",
       "      <td>Jurassic Park: The Game</td>\n",
       "      <td>X360</td>\n",
       "      <td>NaN</td>\n",
       "      <td>Action</td>\n",
       "      <td>0.15</td>\n",
       "      <td>0.00</td>\n",
       "      <td>0.00</td>\n",
       "      <td>0.01</td>\n",
       "      <td>60.0</td>\n",
       "      <td>3.6</td>\n",
       "      <td>T</td>\n",
       "    </tr>\n",
       "  </tbody>\n",
       "</table>\n",
       "</div>"
      ],
      "text/plain": [
       "                                         name platform  year_of_release  \\\n",
       "12235          National Geographic Challenge!     X360              NaN   \n",
       "10764               Luminous Arc 2 (JP sales)       DS              NaN   \n",
       "1301                           Triple Play 99       PS              NaN   \n",
       "5070                       The Golden Compass      PSP              NaN   \n",
       "12718                    Flip's Twisted World      Wii              NaN   \n",
       "10486  Atsumare! Power Pro Kun no DS Koushien       DS              NaN   \n",
       "4437                           Super Breakout     2600              NaN   \n",
       "14325                    Beyond the Labyrinth      3DS              NaN   \n",
       "14769                       Super Duper Sumos      GBA              NaN   \n",
       "8680                  Jurassic Park: The Game     X360              NaN   \n",
       "\n",
       "              genre  na_sales  eu_sales  jp_sales  other_sales  critic_score  \\\n",
       "12235          Misc      0.06      0.00      0.00         0.00           NaN   \n",
       "10764  Role-Playing      0.00      0.00      0.10         0.00           NaN   \n",
       "1301         Sports      0.81      0.55      0.00         0.10           NaN   \n",
       "5070         Action      0.11      0.16      0.00         0.10          28.0   \n",
       "12718      Platform      0.05      0.00      0.00         0.00          47.0   \n",
       "10486        Sports      0.00      0.00      0.10         0.00           NaN   \n",
       "4437         Puzzle      0.41      0.03      0.00         0.00           NaN   \n",
       "14325  Role-Playing      0.00      0.00      0.03         0.00           NaN   \n",
       "14769        Action      0.02      0.01      0.00         0.00          57.0   \n",
       "8680         Action      0.15      0.00      0.00         0.01          60.0   \n",
       "\n",
       "      user_score rating  \n",
       "12235        NaN    NaN  \n",
       "10764        NaN    NaN  \n",
       "1301         NaN    NaN  \n",
       "5070         4.1   E10+  \n",
       "12718        tbd      E  \n",
       "10486        NaN    NaN  \n",
       "4437         NaN    NaN  \n",
       "14325        NaN    NaN  \n",
       "14769        tbd      E  \n",
       "8680         3.6      T  "
      ]
     },
     "execution_count": 72,
     "metadata": {},
     "output_type": "execute_result"
    }
   ],
   "source": [
    "# Revisar los datos faltantes de la columna year_of_release\n",
    "na_year_of_release = sales[sales[\"year_of_release\"].isna()]\n",
    "na_year_of_release.sample(10)\n",
    "\n"
   ]
  },
  {
   "cell_type": "code",
   "execution_count": 73,
   "metadata": {},
   "outputs": [
    {
     "data": {
      "text/html": [
       "<div>\n",
       "<style scoped>\n",
       "    .dataframe tbody tr th:only-of-type {\n",
       "        vertical-align: middle;\n",
       "    }\n",
       "\n",
       "    .dataframe tbody tr th {\n",
       "        vertical-align: top;\n",
       "    }\n",
       "\n",
       "    .dataframe thead th {\n",
       "        text-align: right;\n",
       "    }\n",
       "</style>\n",
       "<table border=\"1\" class=\"dataframe\">\n",
       "  <thead>\n",
       "    <tr style=\"text-align: right;\">\n",
       "      <th></th>\n",
       "      <th>name</th>\n",
       "      <th>platform</th>\n",
       "      <th>year_of_release</th>\n",
       "      <th>genre</th>\n",
       "      <th>na_sales</th>\n",
       "      <th>eu_sales</th>\n",
       "      <th>jp_sales</th>\n",
       "      <th>other_sales</th>\n",
       "      <th>critic_score</th>\n",
       "      <th>user_score</th>\n",
       "      <th>rating</th>\n",
       "    </tr>\n",
       "  </thead>\n",
       "  <tbody>\n",
       "    <tr>\n",
       "      <th>183</th>\n",
       "      <td>Madden NFL 2004</td>\n",
       "      <td>PS2</td>\n",
       "      <td>NaN</td>\n",
       "      <td>Sports</td>\n",
       "      <td>4.26</td>\n",
       "      <td>0.26</td>\n",
       "      <td>0.01</td>\n",
       "      <td>0.71</td>\n",
       "      <td>94.0</td>\n",
       "      <td>8.5</td>\n",
       "      <td>E</td>\n",
       "    </tr>\n",
       "    <tr>\n",
       "      <th>1881</th>\n",
       "      <td>Madden NFL 2004</td>\n",
       "      <td>XB</td>\n",
       "      <td>2003.0</td>\n",
       "      <td>Sports</td>\n",
       "      <td>1.02</td>\n",
       "      <td>0.02</td>\n",
       "      <td>0.00</td>\n",
       "      <td>0.05</td>\n",
       "      <td>92.0</td>\n",
       "      <td>8.3</td>\n",
       "      <td>E</td>\n",
       "    </tr>\n",
       "    <tr>\n",
       "      <th>3889</th>\n",
       "      <td>Madden NFL 2004</td>\n",
       "      <td>GC</td>\n",
       "      <td>2003.0</td>\n",
       "      <td>Sports</td>\n",
       "      <td>0.40</td>\n",
       "      <td>0.10</td>\n",
       "      <td>0.00</td>\n",
       "      <td>0.01</td>\n",
       "      <td>94.0</td>\n",
       "      <td>7.7</td>\n",
       "      <td>E</td>\n",
       "    </tr>\n",
       "    <tr>\n",
       "      <th>5708</th>\n",
       "      <td>Madden NFL 2004</td>\n",
       "      <td>GBA</td>\n",
       "      <td>2003.0</td>\n",
       "      <td>Sports</td>\n",
       "      <td>0.22</td>\n",
       "      <td>0.08</td>\n",
       "      <td>0.00</td>\n",
       "      <td>0.01</td>\n",
       "      <td>70.0</td>\n",
       "      <td>6.6</td>\n",
       "      <td>E</td>\n",
       "    </tr>\n",
       "  </tbody>\n",
       "</table>\n",
       "</div>"
      ],
      "text/plain": [
       "                 name platform  year_of_release   genre  na_sales  eu_sales  \\\n",
       "183   Madden NFL 2004      PS2              NaN  Sports      4.26      0.26   \n",
       "1881  Madden NFL 2004       XB           2003.0  Sports      1.02      0.02   \n",
       "3889  Madden NFL 2004       GC           2003.0  Sports      0.40      0.10   \n",
       "5708  Madden NFL 2004      GBA           2003.0  Sports      0.22      0.08   \n",
       "\n",
       "      jp_sales  other_sales  critic_score user_score rating  \n",
       "183       0.01         0.71          94.0        8.5      E  \n",
       "1881      0.00         0.05          92.0        8.3      E  \n",
       "3889      0.00         0.01          94.0        7.7      E  \n",
       "5708      0.00         0.01          70.0        6.6      E  "
      ]
     },
     "execution_count": 73,
     "metadata": {},
     "output_type": "execute_result"
    }
   ],
   "source": [
    "# Revisar los datos de la colmuna name que tengan la palabra Maddren NFL 2004\n",
    "madden_game = sales[sales[\"name\"]== \"Madden NFL 2004\"]\n",
    "madden_game"
   ]
  },
  {
   "cell_type": "markdown",
   "metadata": {},
   "source": [
    "Apreciamos como en la fila donde esta el dato NaN en la columna year_of_release otras filas si tienen dato y practicamente el mismo. Es posible, que esta tendencia se repita en todos los datos NaN que se tienen en la columna year_of_release. Buscare un metodo para poder rellenar esos datos con la información de sus similares"
   ]
  },
  {
   "cell_type": "code",
   "execution_count": 74,
   "metadata": {},
   "outputs": [],
   "source": [
    "# Función para llenar los datos NaN de la columna year_of_release con la moda\n",
    "def fill_with_mode(x):\n",
    "    if x.mode().empty or pd.isna(x.mode().iloc[0]):\n",
    "        return x.fillna(0)\n",
    "    else:\n",
    "        return x.fillna(x.mode().iloc[0])\n",
    "\n",
    "sales['year_of_release'] = sales.groupby('name')['year_of_release'].transform(fill_with_mode)"
   ]
  },
  {
   "cell_type": "code",
   "execution_count": 75,
   "metadata": {},
   "outputs": [
    {
     "name": "stdout",
     "output_type": "stream",
     "text": [
      "<class 'pandas.core.frame.DataFrame'>\n",
      "Index: 16713 entries, 0 to 16714\n",
      "Data columns (total 11 columns):\n",
      " #   Column           Non-Null Count  Dtype  \n",
      "---  ------           --------------  -----  \n",
      " 0   name             16713 non-null  object \n",
      " 1   platform         16713 non-null  object \n",
      " 2   year_of_release  16713 non-null  float64\n",
      " 3   genre            16713 non-null  object \n",
      " 4   na_sales         16713 non-null  float64\n",
      " 5   eu_sales         16713 non-null  float64\n",
      " 6   jp_sales         16713 non-null  float64\n",
      " 7   other_sales      16713 non-null  float64\n",
      " 8   critic_score     8137 non-null   float64\n",
      " 9   user_score       10014 non-null  object \n",
      " 10  rating           9949 non-null   object \n",
      "dtypes: float64(6), object(5)\n",
      "memory usage: 1.5+ MB\n"
     ]
    }
   ],
   "source": [
    "# Revisar que se hayan llenado los datos NaN\n",
    "sales.info()"
   ]
  },
  {
   "cell_type": "code",
   "execution_count": 76,
   "metadata": {},
   "outputs": [
    {
     "data": {
      "text/html": [
       "<div>\n",
       "<style scoped>\n",
       "    .dataframe tbody tr th:only-of-type {\n",
       "        vertical-align: middle;\n",
       "    }\n",
       "\n",
       "    .dataframe tbody tr th {\n",
       "        vertical-align: top;\n",
       "    }\n",
       "\n",
       "    .dataframe thead th {\n",
       "        text-align: right;\n",
       "    }\n",
       "</style>\n",
       "<table border=\"1\" class=\"dataframe\">\n",
       "  <thead>\n",
       "    <tr style=\"text-align: right;\">\n",
       "      <th></th>\n",
       "      <th>name</th>\n",
       "      <th>platform</th>\n",
       "      <th>year_of_release</th>\n",
       "      <th>genre</th>\n",
       "      <th>na_sales</th>\n",
       "      <th>eu_sales</th>\n",
       "      <th>jp_sales</th>\n",
       "      <th>other_sales</th>\n",
       "      <th>critic_score</th>\n",
       "      <th>user_score</th>\n",
       "      <th>rating</th>\n",
       "    </tr>\n",
       "  </thead>\n",
       "  <tbody>\n",
       "    <tr>\n",
       "      <th>183</th>\n",
       "      <td>Madden NFL 2004</td>\n",
       "      <td>PS2</td>\n",
       "      <td>2003.0</td>\n",
       "      <td>Sports</td>\n",
       "      <td>4.26</td>\n",
       "      <td>0.26</td>\n",
       "      <td>0.01</td>\n",
       "      <td>0.71</td>\n",
       "      <td>94.0</td>\n",
       "      <td>8.5</td>\n",
       "      <td>E</td>\n",
       "    </tr>\n",
       "    <tr>\n",
       "      <th>1881</th>\n",
       "      <td>Madden NFL 2004</td>\n",
       "      <td>XB</td>\n",
       "      <td>2003.0</td>\n",
       "      <td>Sports</td>\n",
       "      <td>1.02</td>\n",
       "      <td>0.02</td>\n",
       "      <td>0.00</td>\n",
       "      <td>0.05</td>\n",
       "      <td>92.0</td>\n",
       "      <td>8.3</td>\n",
       "      <td>E</td>\n",
       "    </tr>\n",
       "    <tr>\n",
       "      <th>3889</th>\n",
       "      <td>Madden NFL 2004</td>\n",
       "      <td>GC</td>\n",
       "      <td>2003.0</td>\n",
       "      <td>Sports</td>\n",
       "      <td>0.40</td>\n",
       "      <td>0.10</td>\n",
       "      <td>0.00</td>\n",
       "      <td>0.01</td>\n",
       "      <td>94.0</td>\n",
       "      <td>7.7</td>\n",
       "      <td>E</td>\n",
       "    </tr>\n",
       "    <tr>\n",
       "      <th>5708</th>\n",
       "      <td>Madden NFL 2004</td>\n",
       "      <td>GBA</td>\n",
       "      <td>2003.0</td>\n",
       "      <td>Sports</td>\n",
       "      <td>0.22</td>\n",
       "      <td>0.08</td>\n",
       "      <td>0.00</td>\n",
       "      <td>0.01</td>\n",
       "      <td>70.0</td>\n",
       "      <td>6.6</td>\n",
       "      <td>E</td>\n",
       "    </tr>\n",
       "  </tbody>\n",
       "</table>\n",
       "</div>"
      ],
      "text/plain": [
       "                 name platform  year_of_release   genre  na_sales  eu_sales  \\\n",
       "183   Madden NFL 2004      PS2           2003.0  Sports      4.26      0.26   \n",
       "1881  Madden NFL 2004       XB           2003.0  Sports      1.02      0.02   \n",
       "3889  Madden NFL 2004       GC           2003.0  Sports      0.40      0.10   \n",
       "5708  Madden NFL 2004      GBA           2003.0  Sports      0.22      0.08   \n",
       "\n",
       "      jp_sales  other_sales  critic_score user_score rating  \n",
       "183       0.01         0.71          94.0        8.5      E  \n",
       "1881      0.00         0.05          92.0        8.3      E  \n",
       "3889      0.00         0.01          94.0        7.7      E  \n",
       "5708      0.00         0.01          70.0        6.6      E  "
      ]
     },
     "execution_count": 76,
     "metadata": {},
     "output_type": "execute_result"
    }
   ],
   "source": [
    "# Revisar que el valor NaN de la columna year_of_release se haya llenado con la moda\n",
    "madden_game = sales[sales[\"name\"]== \"Madden NFL 2004\"]\n",
    "madden_game"
   ]
  },
  {
   "cell_type": "code",
   "execution_count": 77,
   "metadata": {},
   "outputs": [
    {
     "data": {
      "text/html": [
       "<div>\n",
       "<style scoped>\n",
       "    .dataframe tbody tr th:only-of-type {\n",
       "        vertical-align: middle;\n",
       "    }\n",
       "\n",
       "    .dataframe tbody tr th {\n",
       "        vertical-align: top;\n",
       "    }\n",
       "\n",
       "    .dataframe thead th {\n",
       "        text-align: right;\n",
       "    }\n",
       "</style>\n",
       "<table border=\"1\" class=\"dataframe\">\n",
       "  <thead>\n",
       "    <tr style=\"text-align: right;\">\n",
       "      <th></th>\n",
       "      <th>name</th>\n",
       "      <th>platform</th>\n",
       "      <th>year_of_release</th>\n",
       "      <th>genre</th>\n",
       "      <th>na_sales</th>\n",
       "      <th>eu_sales</th>\n",
       "      <th>jp_sales</th>\n",
       "      <th>other_sales</th>\n",
       "      <th>critic_score</th>\n",
       "      <th>user_score</th>\n",
       "      <th>rating</th>\n",
       "    </tr>\n",
       "  </thead>\n",
       "  <tbody>\n",
       "    <tr>\n",
       "      <th>7670</th>\n",
       "      <td>Backyard Hockey</td>\n",
       "      <td>GBA</td>\n",
       "      <td>2003.0</td>\n",
       "      <td>Sports</td>\n",
       "      <td>0.14</td>\n",
       "      <td>0.05</td>\n",
       "      <td>0.00</td>\n",
       "      <td>0.00</td>\n",
       "      <td>NaN</td>\n",
       "      <td>tbd</td>\n",
       "      <td>E</td>\n",
       "    </tr>\n",
       "    <tr>\n",
       "      <th>12366</th>\n",
       "      <td>Chou Gekijouban Keroro Gunsou 3: Tenkuu Daibou...</td>\n",
       "      <td>DS</td>\n",
       "      <td>2008.0</td>\n",
       "      <td>Action</td>\n",
       "      <td>0.00</td>\n",
       "      <td>0.00</td>\n",
       "      <td>0.06</td>\n",
       "      <td>0.00</td>\n",
       "      <td>NaN</td>\n",
       "      <td>NaN</td>\n",
       "      <td>NaN</td>\n",
       "    </tr>\n",
       "    <tr>\n",
       "      <th>9825</th>\n",
       "      <td>Shin Megami Tensei: Devil Survivor 2</td>\n",
       "      <td>3DS</td>\n",
       "      <td>2015.0</td>\n",
       "      <td>Role-Playing</td>\n",
       "      <td>0.00</td>\n",
       "      <td>0.02</td>\n",
       "      <td>0.09</td>\n",
       "      <td>0.00</td>\n",
       "      <td>NaN</td>\n",
       "      <td>NaN</td>\n",
       "      <td>NaN</td>\n",
       "    </tr>\n",
       "    <tr>\n",
       "      <th>10230</th>\n",
       "      <td>Famicom Mini: Famicom Tantei Club - Kieta Kouk...</td>\n",
       "      <td>GBA</td>\n",
       "      <td>2004.0</td>\n",
       "      <td>Adventure</td>\n",
       "      <td>0.00</td>\n",
       "      <td>0.00</td>\n",
       "      <td>0.11</td>\n",
       "      <td>0.00</td>\n",
       "      <td>NaN</td>\n",
       "      <td>NaN</td>\n",
       "      <td>NaN</td>\n",
       "    </tr>\n",
       "    <tr>\n",
       "      <th>12899</th>\n",
       "      <td>Hakuouki: Reimeiroku</td>\n",
       "      <td>PS2</td>\n",
       "      <td>2010.0</td>\n",
       "      <td>Adventure</td>\n",
       "      <td>0.00</td>\n",
       "      <td>0.00</td>\n",
       "      <td>0.05</td>\n",
       "      <td>0.00</td>\n",
       "      <td>NaN</td>\n",
       "      <td>NaN</td>\n",
       "      <td>NaN</td>\n",
       "    </tr>\n",
       "    <tr>\n",
       "      <th>3118</th>\n",
       "      <td>Disney Infinity 2.0: Marvel Super Heroes</td>\n",
       "      <td>WiiU</td>\n",
       "      <td>2014.0</td>\n",
       "      <td>Action</td>\n",
       "      <td>0.37</td>\n",
       "      <td>0.22</td>\n",
       "      <td>0.00</td>\n",
       "      <td>0.06</td>\n",
       "      <td>NaN</td>\n",
       "      <td>NaN</td>\n",
       "      <td>NaN</td>\n",
       "    </tr>\n",
       "    <tr>\n",
       "      <th>6116</th>\n",
       "      <td>F/A-18F Super Hornet</td>\n",
       "      <td>GBA</td>\n",
       "      <td>2004.0</td>\n",
       "      <td>Simulation</td>\n",
       "      <td>0.20</td>\n",
       "      <td>0.08</td>\n",
       "      <td>0.00</td>\n",
       "      <td>0.01</td>\n",
       "      <td>NaN</td>\n",
       "      <td>NaN</td>\n",
       "      <td>NaN</td>\n",
       "    </tr>\n",
       "    <tr>\n",
       "      <th>6178</th>\n",
       "      <td>Shrek: Ogres &amp; Dronkeys</td>\n",
       "      <td>DS</td>\n",
       "      <td>2007.0</td>\n",
       "      <td>Simulation</td>\n",
       "      <td>0.26</td>\n",
       "      <td>0.00</td>\n",
       "      <td>0.00</td>\n",
       "      <td>0.02</td>\n",
       "      <td>NaN</td>\n",
       "      <td>NaN</td>\n",
       "      <td>NaN</td>\n",
       "    </tr>\n",
       "    <tr>\n",
       "      <th>4999</th>\n",
       "      <td>Phoenix Wright: Ace Attorney - Dual Destinies</td>\n",
       "      <td>3DS</td>\n",
       "      <td>2013.0</td>\n",
       "      <td>Adventure</td>\n",
       "      <td>0.00</td>\n",
       "      <td>0.00</td>\n",
       "      <td>0.38</td>\n",
       "      <td>0.00</td>\n",
       "      <td>NaN</td>\n",
       "      <td>NaN</td>\n",
       "      <td>NaN</td>\n",
       "    </tr>\n",
       "    <tr>\n",
       "      <th>9072</th>\n",
       "      <td>Mary-Kate and Ashley: Winners Circle</td>\n",
       "      <td>PS</td>\n",
       "      <td>2001.0</td>\n",
       "      <td>Action</td>\n",
       "      <td>0.08</td>\n",
       "      <td>0.05</td>\n",
       "      <td>0.00</td>\n",
       "      <td>0.01</td>\n",
       "      <td>NaN</td>\n",
       "      <td>NaN</td>\n",
       "      <td>NaN</td>\n",
       "    </tr>\n",
       "  </tbody>\n",
       "</table>\n",
       "</div>"
      ],
      "text/plain": [
       "                                                    name platform  \\\n",
       "7670                                     Backyard Hockey      GBA   \n",
       "12366  Chou Gekijouban Keroro Gunsou 3: Tenkuu Daibou...       DS   \n",
       "9825                Shin Megami Tensei: Devil Survivor 2      3DS   \n",
       "10230  Famicom Mini: Famicom Tantei Club - Kieta Kouk...      GBA   \n",
       "12899                               Hakuouki: Reimeiroku      PS2   \n",
       "3118            Disney Infinity 2.0: Marvel Super Heroes     WiiU   \n",
       "6116                                F/A-18F Super Hornet      GBA   \n",
       "6178                             Shrek: Ogres & Dronkeys       DS   \n",
       "4999       Phoenix Wright: Ace Attorney - Dual Destinies      3DS   \n",
       "9072                Mary-Kate and Ashley: Winners Circle       PS   \n",
       "\n",
       "       year_of_release         genre  na_sales  eu_sales  jp_sales  \\\n",
       "7670            2003.0        Sports      0.14      0.05      0.00   \n",
       "12366           2008.0        Action      0.00      0.00      0.06   \n",
       "9825            2015.0  Role-Playing      0.00      0.02      0.09   \n",
       "10230           2004.0     Adventure      0.00      0.00      0.11   \n",
       "12899           2010.0     Adventure      0.00      0.00      0.05   \n",
       "3118            2014.0        Action      0.37      0.22      0.00   \n",
       "6116            2004.0    Simulation      0.20      0.08      0.00   \n",
       "6178            2007.0    Simulation      0.26      0.00      0.00   \n",
       "4999            2013.0     Adventure      0.00      0.00      0.38   \n",
       "9072            2001.0        Action      0.08      0.05      0.00   \n",
       "\n",
       "       other_sales  critic_score user_score rating  \n",
       "7670          0.00           NaN        tbd      E  \n",
       "12366         0.00           NaN        NaN    NaN  \n",
       "9825          0.00           NaN        NaN    NaN  \n",
       "10230         0.00           NaN        NaN    NaN  \n",
       "12899         0.00           NaN        NaN    NaN  \n",
       "3118          0.06           NaN        NaN    NaN  \n",
       "6116          0.01           NaN        NaN    NaN  \n",
       "6178          0.02           NaN        NaN    NaN  \n",
       "4999          0.00           NaN        NaN    NaN  \n",
       "9072          0.01           NaN        NaN    NaN  "
      ]
     },
     "execution_count": 77,
     "metadata": {},
     "output_type": "execute_result"
    }
   ],
   "source": [
    "# Revisar los NaN de la columna critic_score\n",
    "na_critic_score = sales[sales[\"critic_score\"].isna()]\n",
    "na_critic_score.sample(10)"
   ]
  },
  {
   "cell_type": "code",
   "execution_count": 78,
   "metadata": {},
   "outputs": [
    {
     "data": {
      "text/plain": [
       "year_of_release\n",
       "0.0       0\n",
       "1980.0    0\n",
       "1981.0    0\n",
       "1982.0    0\n",
       "1983.0    0\n",
       "1984.0    0\n",
       "1985.0    0\n",
       "1986.0    0\n",
       "1987.0    0\n",
       "1988.0    0\n",
       "1989.0    0\n",
       "1990.0    0\n",
       "1991.0    0\n",
       "1992.0    0\n",
       "1993.0    0\n",
       "1994.0    0\n",
       "1995.0    0\n",
       "1996.0    0\n",
       "1997.0    0\n",
       "1998.0    0\n",
       "1999.0    0\n",
       "2000.0    0\n",
       "2001.0    0\n",
       "2002.0    0\n",
       "2003.0    0\n",
       "2004.0    0\n",
       "2005.0    0\n",
       "2006.0    0\n",
       "2007.0    0\n",
       "2008.0    0\n",
       "2009.0    0\n",
       "2010.0    0\n",
       "2011.0    0\n",
       "2012.0    0\n",
       "2013.0    0\n",
       "2014.0    0\n",
       "2015.0    0\n",
       "2016.0    0\n",
       "Name: critic_score, dtype: int64"
      ]
     },
     "execution_count": 78,
     "metadata": {},
     "output_type": "execute_result"
    }
   ],
   "source": [
    "# Revisar el comportamiento de la columna critic_score\n",
    "group_critic_score = na_critic_score.groupby('year_of_release')['critic_score'].count()\n",
    "group_critic_score"
   ]
  },
  {
   "cell_type": "markdown",
   "metadata": {},
   "source": [
    "Revisando la columna de critic_score practicamente todos los valores NaN o son de juegos muy antiguos o que las ventas fueron practicamente nulas. Puede ser que este sistema de ranking de video juegos se implemento en cierta epoca y por eso los mas antiguos no lo tienen, y por el lado de las ventas, fueron tan bajas que ni siqueira hubo un ranking al respecto"
   ]
  },
  {
   "cell_type": "code",
   "execution_count": 79,
   "metadata": {},
   "outputs": [],
   "source": [
    "# Rellenar los valores NaN de la columna critic_score y user_score con cero\n",
    "sales['critic_score'] = sales['critic_score'].fillna(0)\n",
    "sales['user_score'] = sales['user_score'].fillna(0)"
   ]
  },
  {
   "cell_type": "code",
   "execution_count": 80,
   "metadata": {},
   "outputs": [
    {
     "data": {
      "text/html": [
       "<div>\n",
       "<style scoped>\n",
       "    .dataframe tbody tr th:only-of-type {\n",
       "        vertical-align: middle;\n",
       "    }\n",
       "\n",
       "    .dataframe tbody tr th {\n",
       "        vertical-align: top;\n",
       "    }\n",
       "\n",
       "    .dataframe thead th {\n",
       "        text-align: right;\n",
       "    }\n",
       "</style>\n",
       "<table border=\"1\" class=\"dataframe\">\n",
       "  <thead>\n",
       "    <tr style=\"text-align: right;\">\n",
       "      <th></th>\n",
       "      <th>name</th>\n",
       "      <th>platform</th>\n",
       "      <th>year_of_release</th>\n",
       "      <th>genre</th>\n",
       "      <th>na_sales</th>\n",
       "      <th>eu_sales</th>\n",
       "      <th>jp_sales</th>\n",
       "      <th>other_sales</th>\n",
       "      <th>critic_score</th>\n",
       "      <th>user_score</th>\n",
       "      <th>rating</th>\n",
       "    </tr>\n",
       "  </thead>\n",
       "  <tbody>\n",
       "    <tr>\n",
       "      <th>0</th>\n",
       "      <td>Wii Sports</td>\n",
       "      <td>Wii</td>\n",
       "      <td>2006.0</td>\n",
       "      <td>Sports</td>\n",
       "      <td>41.36</td>\n",
       "      <td>28.96</td>\n",
       "      <td>3.77</td>\n",
       "      <td>8.45</td>\n",
       "      <td>76.0</td>\n",
       "      <td>8</td>\n",
       "      <td>E</td>\n",
       "    </tr>\n",
       "    <tr>\n",
       "      <th>1</th>\n",
       "      <td>Super Mario Bros.</td>\n",
       "      <td>NES</td>\n",
       "      <td>1985.0</td>\n",
       "      <td>Platform</td>\n",
       "      <td>29.08</td>\n",
       "      <td>3.58</td>\n",
       "      <td>6.81</td>\n",
       "      <td>0.77</td>\n",
       "      <td>0.0</td>\n",
       "      <td>0</td>\n",
       "      <td>NaN</td>\n",
       "    </tr>\n",
       "    <tr>\n",
       "      <th>2</th>\n",
       "      <td>Mario Kart Wii</td>\n",
       "      <td>Wii</td>\n",
       "      <td>2008.0</td>\n",
       "      <td>Racing</td>\n",
       "      <td>15.68</td>\n",
       "      <td>12.76</td>\n",
       "      <td>3.79</td>\n",
       "      <td>3.29</td>\n",
       "      <td>82.0</td>\n",
       "      <td>8.3</td>\n",
       "      <td>E</td>\n",
       "    </tr>\n",
       "    <tr>\n",
       "      <th>3</th>\n",
       "      <td>Wii Sports Resort</td>\n",
       "      <td>Wii</td>\n",
       "      <td>2009.0</td>\n",
       "      <td>Sports</td>\n",
       "      <td>15.61</td>\n",
       "      <td>10.93</td>\n",
       "      <td>3.28</td>\n",
       "      <td>2.95</td>\n",
       "      <td>80.0</td>\n",
       "      <td>8</td>\n",
       "      <td>E</td>\n",
       "    </tr>\n",
       "    <tr>\n",
       "      <th>4</th>\n",
       "      <td>Pokemon Red/Pokemon Blue</td>\n",
       "      <td>GB</td>\n",
       "      <td>1996.0</td>\n",
       "      <td>Role-Playing</td>\n",
       "      <td>11.27</td>\n",
       "      <td>8.89</td>\n",
       "      <td>10.22</td>\n",
       "      <td>1.00</td>\n",
       "      <td>0.0</td>\n",
       "      <td>0</td>\n",
       "      <td>NaN</td>\n",
       "    </tr>\n",
       "  </tbody>\n",
       "</table>\n",
       "</div>"
      ],
      "text/plain": [
       "                       name platform  year_of_release         genre  na_sales  \\\n",
       "0                Wii Sports      Wii           2006.0        Sports     41.36   \n",
       "1         Super Mario Bros.      NES           1985.0      Platform     29.08   \n",
       "2            Mario Kart Wii      Wii           2008.0        Racing     15.68   \n",
       "3         Wii Sports Resort      Wii           2009.0        Sports     15.61   \n",
       "4  Pokemon Red/Pokemon Blue       GB           1996.0  Role-Playing     11.27   \n",
       "\n",
       "   eu_sales  jp_sales  other_sales  critic_score user_score rating  \n",
       "0     28.96      3.77         8.45          76.0          8      E  \n",
       "1      3.58      6.81         0.77           0.0          0    NaN  \n",
       "2     12.76      3.79         3.29          82.0        8.3      E  \n",
       "3     10.93      3.28         2.95          80.0          8      E  \n",
       "4      8.89     10.22         1.00           0.0          0    NaN  "
      ]
     },
     "execution_count": 80,
     "metadata": {},
     "output_type": "execute_result"
    }
   ],
   "source": [
    "sales.head()"
   ]
  },
  {
   "cell_type": "code",
   "execution_count": 81,
   "metadata": {},
   "outputs": [
    {
     "name": "stdout",
     "output_type": "stream",
     "text": [
      "<class 'pandas.core.frame.DataFrame'>\n",
      "Index: 16713 entries, 0 to 16714\n",
      "Data columns (total 11 columns):\n",
      " #   Column           Non-Null Count  Dtype  \n",
      "---  ------           --------------  -----  \n",
      " 0   name             16713 non-null  object \n",
      " 1   platform         16713 non-null  object \n",
      " 2   year_of_release  16713 non-null  float64\n",
      " 3   genre            16713 non-null  object \n",
      " 4   na_sales         16713 non-null  float64\n",
      " 5   eu_sales         16713 non-null  float64\n",
      " 6   jp_sales         16713 non-null  float64\n",
      " 7   other_sales      16713 non-null  float64\n",
      " 8   critic_score     16713 non-null  float64\n",
      " 9   user_score       16713 non-null  object \n",
      " 10  rating           9949 non-null   object \n",
      "dtypes: float64(6), object(5)\n",
      "memory usage: 1.5+ MB\n"
     ]
    }
   ],
   "source": [
    "# Revisar que se hayan rellenado los valores NaN\n",
    "sales.info()"
   ]
  },
  {
   "cell_type": "code",
   "execution_count": 82,
   "metadata": {},
   "outputs": [
    {
     "data": {
      "text/html": [
       "<div>\n",
       "<style scoped>\n",
       "    .dataframe tbody tr th:only-of-type {\n",
       "        vertical-align: middle;\n",
       "    }\n",
       "\n",
       "    .dataframe tbody tr th {\n",
       "        vertical-align: top;\n",
       "    }\n",
       "\n",
       "    .dataframe thead th {\n",
       "        text-align: right;\n",
       "    }\n",
       "</style>\n",
       "<table border=\"1\" class=\"dataframe\">\n",
       "  <thead>\n",
       "    <tr style=\"text-align: right;\">\n",
       "      <th></th>\n",
       "      <th>name</th>\n",
       "      <th>platform</th>\n",
       "      <th>year_of_release</th>\n",
       "      <th>genre</th>\n",
       "      <th>na_sales</th>\n",
       "      <th>eu_sales</th>\n",
       "      <th>jp_sales</th>\n",
       "      <th>other_sales</th>\n",
       "      <th>critic_score</th>\n",
       "      <th>user_score</th>\n",
       "      <th>rating</th>\n",
       "    </tr>\n",
       "  </thead>\n",
       "  <tbody>\n",
       "    <tr>\n",
       "      <th>1292</th>\n",
       "      <td>Disney Princess</td>\n",
       "      <td>GBA</td>\n",
       "      <td>2003.0</td>\n",
       "      <td>Platform</td>\n",
       "      <td>1.04</td>\n",
       "      <td>0.37</td>\n",
       "      <td>0.0</td>\n",
       "      <td>0.06</td>\n",
       "      <td>0.0</td>\n",
       "      <td>tbd</td>\n",
       "      <td>E</td>\n",
       "    </tr>\n",
       "    <tr>\n",
       "      <th>6385</th>\n",
       "      <td>Just Dance Kids 2</td>\n",
       "      <td>Wii</td>\n",
       "      <td>2011.0</td>\n",
       "      <td>Misc</td>\n",
       "      <td>0.25</td>\n",
       "      <td>0.00</td>\n",
       "      <td>0.0</td>\n",
       "      <td>0.02</td>\n",
       "      <td>0.0</td>\n",
       "      <td>tbd</td>\n",
       "      <td>E</td>\n",
       "    </tr>\n",
       "    <tr>\n",
       "      <th>16421</th>\n",
       "      <td>Tringo</td>\n",
       "      <td>GBA</td>\n",
       "      <td>2006.0</td>\n",
       "      <td>Puzzle</td>\n",
       "      <td>0.01</td>\n",
       "      <td>0.00</td>\n",
       "      <td>0.0</td>\n",
       "      <td>0.00</td>\n",
       "      <td>0.0</td>\n",
       "      <td>tbd</td>\n",
       "      <td>E</td>\n",
       "    </tr>\n",
       "    <tr>\n",
       "      <th>15534</th>\n",
       "      <td>Chuck E. Cheese's Super Collection</td>\n",
       "      <td>Wii</td>\n",
       "      <td>2011.0</td>\n",
       "      <td>Action</td>\n",
       "      <td>0.02</td>\n",
       "      <td>0.00</td>\n",
       "      <td>0.0</td>\n",
       "      <td>0.00</td>\n",
       "      <td>0.0</td>\n",
       "      <td>tbd</td>\n",
       "      <td>E</td>\n",
       "    </tr>\n",
       "    <tr>\n",
       "      <th>7660</th>\n",
       "      <td>Tetris Worlds (Online Edition)</td>\n",
       "      <td>XB</td>\n",
       "      <td>2003.0</td>\n",
       "      <td>Puzzle</td>\n",
       "      <td>0.15</td>\n",
       "      <td>0.04</td>\n",
       "      <td>0.0</td>\n",
       "      <td>0.01</td>\n",
       "      <td>62.0</td>\n",
       "      <td>tbd</td>\n",
       "      <td>E</td>\n",
       "    </tr>\n",
       "    <tr>\n",
       "      <th>10538</th>\n",
       "      <td>Hot Wheels Ultimate Racing</td>\n",
       "      <td>PSP</td>\n",
       "      <td>2007.0</td>\n",
       "      <td>Action</td>\n",
       "      <td>0.09</td>\n",
       "      <td>0.00</td>\n",
       "      <td>0.0</td>\n",
       "      <td>0.01</td>\n",
       "      <td>60.0</td>\n",
       "      <td>tbd</td>\n",
       "      <td>E</td>\n",
       "    </tr>\n",
       "    <tr>\n",
       "      <th>7192</th>\n",
       "      <td>Duel Masters: Kaijudo Showdown</td>\n",
       "      <td>GBA</td>\n",
       "      <td>2004.0</td>\n",
       "      <td>Misc</td>\n",
       "      <td>0.16</td>\n",
       "      <td>0.06</td>\n",
       "      <td>0.0</td>\n",
       "      <td>0.00</td>\n",
       "      <td>66.0</td>\n",
       "      <td>tbd</td>\n",
       "      <td>E</td>\n",
       "    </tr>\n",
       "    <tr>\n",
       "      <th>9261</th>\n",
       "      <td>Alvin and the Chipmunks</td>\n",
       "      <td>DS</td>\n",
       "      <td>2007.0</td>\n",
       "      <td>Misc</td>\n",
       "      <td>0.12</td>\n",
       "      <td>0.00</td>\n",
       "      <td>0.0</td>\n",
       "      <td>0.01</td>\n",
       "      <td>0.0</td>\n",
       "      <td>tbd</td>\n",
       "      <td>E</td>\n",
       "    </tr>\n",
       "    <tr>\n",
       "      <th>6526</th>\n",
       "      <td>Don King Boxing</td>\n",
       "      <td>Wii</td>\n",
       "      <td>2009.0</td>\n",
       "      <td>Sports</td>\n",
       "      <td>0.14</td>\n",
       "      <td>0.09</td>\n",
       "      <td>0.0</td>\n",
       "      <td>0.03</td>\n",
       "      <td>55.0</td>\n",
       "      <td>tbd</td>\n",
       "      <td>T</td>\n",
       "    </tr>\n",
       "    <tr>\n",
       "      <th>10566</th>\n",
       "      <td>Backyard Baseball '10</td>\n",
       "      <td>Wii</td>\n",
       "      <td>2009.0</td>\n",
       "      <td>Sports</td>\n",
       "      <td>0.09</td>\n",
       "      <td>0.00</td>\n",
       "      <td>0.0</td>\n",
       "      <td>0.01</td>\n",
       "      <td>0.0</td>\n",
       "      <td>tbd</td>\n",
       "      <td>E</td>\n",
       "    </tr>\n",
       "  </tbody>\n",
       "</table>\n",
       "</div>"
      ],
      "text/plain": [
       "                                     name platform  year_of_release     genre  \\\n",
       "1292                      Disney Princess      GBA           2003.0  Platform   \n",
       "6385                    Just Dance Kids 2      Wii           2011.0      Misc   \n",
       "16421                              Tringo      GBA           2006.0    Puzzle   \n",
       "15534  Chuck E. Cheese's Super Collection      Wii           2011.0    Action   \n",
       "7660       Tetris Worlds (Online Edition)       XB           2003.0    Puzzle   \n",
       "10538          Hot Wheels Ultimate Racing      PSP           2007.0    Action   \n",
       "7192       Duel Masters: Kaijudo Showdown      GBA           2004.0      Misc   \n",
       "9261              Alvin and the Chipmunks       DS           2007.0      Misc   \n",
       "6526                      Don King Boxing      Wii           2009.0    Sports   \n",
       "10566               Backyard Baseball '10      Wii           2009.0    Sports   \n",
       "\n",
       "       na_sales  eu_sales  jp_sales  other_sales  critic_score user_score  \\\n",
       "1292       1.04      0.37       0.0         0.06           0.0        tbd   \n",
       "6385       0.25      0.00       0.0         0.02           0.0        tbd   \n",
       "16421      0.01      0.00       0.0         0.00           0.0        tbd   \n",
       "15534      0.02      0.00       0.0         0.00           0.0        tbd   \n",
       "7660       0.15      0.04       0.0         0.01          62.0        tbd   \n",
       "10538      0.09      0.00       0.0         0.01          60.0        tbd   \n",
       "7192       0.16      0.06       0.0         0.00          66.0        tbd   \n",
       "9261       0.12      0.00       0.0         0.01           0.0        tbd   \n",
       "6526       0.14      0.09       0.0         0.03          55.0        tbd   \n",
       "10566      0.09      0.00       0.0         0.01           0.0        tbd   \n",
       "\n",
       "      rating  \n",
       "1292       E  \n",
       "6385       E  \n",
       "16421      E  \n",
       "15534      E  \n",
       "7660       E  \n",
       "10538      E  \n",
       "7192       E  \n",
       "9261       E  \n",
       "6526       T  \n",
       "10566      E  "
      ]
     },
     "execution_count": 82,
     "metadata": {},
     "output_type": "execute_result"
    }
   ],
   "source": [
    "# Revisar los datos de la columna user_score\n",
    "tbd = sales[sales[\"user_score\"] == \"tbd\"]\n",
    "tbd.sample(10)"
   ]
  },
  {
   "cell_type": "markdown",
   "metadata": {},
   "source": [
    "Se puede apreciar practicamente todas las filas que tienen tbd en la columna user_score es porque las ventas son practicamente nulas. Entonces, vamos a llenar estos datos con el valor de 0"
   ]
  },
  {
   "cell_type": "code",
   "execution_count": 83,
   "metadata": {},
   "outputs": [],
   "source": [
    "# Reemplazar los valores tbd por cero\n",
    "sales['user_score'] = sales['user_score'].replace('tbd',0)\n"
   ]
  },
  {
   "cell_type": "code",
   "execution_count": 84,
   "metadata": {},
   "outputs": [
    {
     "data": {
      "text/html": [
       "<div>\n",
       "<style scoped>\n",
       "    .dataframe tbody tr th:only-of-type {\n",
       "        vertical-align: middle;\n",
       "    }\n",
       "\n",
       "    .dataframe tbody tr th {\n",
       "        vertical-align: top;\n",
       "    }\n",
       "\n",
       "    .dataframe thead th {\n",
       "        text-align: right;\n",
       "    }\n",
       "</style>\n",
       "<table border=\"1\" class=\"dataframe\">\n",
       "  <thead>\n",
       "    <tr style=\"text-align: right;\">\n",
       "      <th></th>\n",
       "      <th>name</th>\n",
       "      <th>platform</th>\n",
       "      <th>year_of_release</th>\n",
       "      <th>genre</th>\n",
       "      <th>na_sales</th>\n",
       "      <th>eu_sales</th>\n",
       "      <th>jp_sales</th>\n",
       "      <th>other_sales</th>\n",
       "      <th>critic_score</th>\n",
       "      <th>user_score</th>\n",
       "      <th>rating</th>\n",
       "    </tr>\n",
       "  </thead>\n",
       "  <tbody>\n",
       "  </tbody>\n",
       "</table>\n",
       "</div>"
      ],
      "text/plain": [
       "Empty DataFrame\n",
       "Columns: [name, platform, year_of_release, genre, na_sales, eu_sales, jp_sales, other_sales, critic_score, user_score, rating]\n",
       "Index: []"
      ]
     },
     "execution_count": 84,
     "metadata": {},
     "output_type": "execute_result"
    }
   ],
   "source": [
    "# Revisar que se hayan reemplazado los valores tbd por cero\n",
    "tbd = sales[sales[\"user_score\"] == \"tbd\"]\n",
    "tbd"
   ]
  },
  {
   "cell_type": "code",
   "execution_count": 85,
   "metadata": {},
   "outputs": [
    {
     "data": {
      "text/html": [
       "<div>\n",
       "<style scoped>\n",
       "    .dataframe tbody tr th:only-of-type {\n",
       "        vertical-align: middle;\n",
       "    }\n",
       "\n",
       "    .dataframe tbody tr th {\n",
       "        vertical-align: top;\n",
       "    }\n",
       "\n",
       "    .dataframe thead th {\n",
       "        text-align: right;\n",
       "    }\n",
       "</style>\n",
       "<table border=\"1\" class=\"dataframe\">\n",
       "  <thead>\n",
       "    <tr style=\"text-align: right;\">\n",
       "      <th></th>\n",
       "      <th>name</th>\n",
       "      <th>platform</th>\n",
       "      <th>year_of_release</th>\n",
       "      <th>genre</th>\n",
       "      <th>na_sales</th>\n",
       "      <th>eu_sales</th>\n",
       "      <th>jp_sales</th>\n",
       "      <th>other_sales</th>\n",
       "      <th>critic_score</th>\n",
       "      <th>user_score</th>\n",
       "      <th>rating</th>\n",
       "    </tr>\n",
       "  </thead>\n",
       "  <tbody>\n",
       "    <tr>\n",
       "      <th>2267</th>\n",
       "      <td>EA Sports Grand Slam Tennis</td>\n",
       "      <td>Wii</td>\n",
       "      <td>2009.0</td>\n",
       "      <td>Sports</td>\n",
       "      <td>0.28</td>\n",
       "      <td>0.51</td>\n",
       "      <td>0.02</td>\n",
       "      <td>0.11</td>\n",
       "      <td>0.0</td>\n",
       "      <td>0</td>\n",
       "      <td>NaN</td>\n",
       "    </tr>\n",
       "    <tr>\n",
       "      <th>4430</th>\n",
       "      <td>Jikkyou Powerful Pro Yakyuu 9</td>\n",
       "      <td>PS2</td>\n",
       "      <td>2002.0</td>\n",
       "      <td>Sports</td>\n",
       "      <td>0.00</td>\n",
       "      <td>0.00</td>\n",
       "      <td>0.44</td>\n",
       "      <td>0.00</td>\n",
       "      <td>0.0</td>\n",
       "      <td>0</td>\n",
       "      <td>NaN</td>\n",
       "    </tr>\n",
       "    <tr>\n",
       "      <th>4560</th>\n",
       "      <td>The X Files</td>\n",
       "      <td>PS</td>\n",
       "      <td>1999.0</td>\n",
       "      <td>Adventure</td>\n",
       "      <td>0.24</td>\n",
       "      <td>0.16</td>\n",
       "      <td>0.00</td>\n",
       "      <td>0.03</td>\n",
       "      <td>0.0</td>\n",
       "      <td>0</td>\n",
       "      <td>NaN</td>\n",
       "    </tr>\n",
       "    <tr>\n",
       "      <th>11524</th>\n",
       "      <td>Sherlock Holmes: Crimes &amp; Punishments</td>\n",
       "      <td>XOne</td>\n",
       "      <td>2014.0</td>\n",
       "      <td>Adventure</td>\n",
       "      <td>0.03</td>\n",
       "      <td>0.04</td>\n",
       "      <td>0.00</td>\n",
       "      <td>0.01</td>\n",
       "      <td>0.0</td>\n",
       "      <td>0</td>\n",
       "      <td>NaN</td>\n",
       "    </tr>\n",
       "    <tr>\n",
       "      <th>1012</th>\n",
       "      <td>The Elder Scrolls Online</td>\n",
       "      <td>PS4</td>\n",
       "      <td>2015.0</td>\n",
       "      <td>Role-Playing</td>\n",
       "      <td>0.67</td>\n",
       "      <td>0.79</td>\n",
       "      <td>0.00</td>\n",
       "      <td>0.29</td>\n",
       "      <td>0.0</td>\n",
       "      <td>0</td>\n",
       "      <td>NaN</td>\n",
       "    </tr>\n",
       "    <tr>\n",
       "      <th>16252</th>\n",
       "      <td>Entaku no Seito: Students of Round</td>\n",
       "      <td>X360</td>\n",
       "      <td>2011.0</td>\n",
       "      <td>Role-Playing</td>\n",
       "      <td>0.00</td>\n",
       "      <td>0.00</td>\n",
       "      <td>0.01</td>\n",
       "      <td>0.00</td>\n",
       "      <td>0.0</td>\n",
       "      <td>0</td>\n",
       "      <td>NaN</td>\n",
       "    </tr>\n",
       "    <tr>\n",
       "      <th>3045</th>\n",
       "      <td>Diablo III</td>\n",
       "      <td>XOne</td>\n",
       "      <td>2014.0</td>\n",
       "      <td>Role-Playing</td>\n",
       "      <td>0.36</td>\n",
       "      <td>0.24</td>\n",
       "      <td>0.00</td>\n",
       "      <td>0.06</td>\n",
       "      <td>0.0</td>\n",
       "      <td>0</td>\n",
       "      <td>NaN</td>\n",
       "    </tr>\n",
       "    <tr>\n",
       "      <th>5036</th>\n",
       "      <td>Moto Racer World Tour</td>\n",
       "      <td>PS</td>\n",
       "      <td>2000.0</td>\n",
       "      <td>Racing</td>\n",
       "      <td>0.21</td>\n",
       "      <td>0.14</td>\n",
       "      <td>0.00</td>\n",
       "      <td>0.02</td>\n",
       "      <td>0.0</td>\n",
       "      <td>0</td>\n",
       "      <td>NaN</td>\n",
       "    </tr>\n",
       "    <tr>\n",
       "      <th>10677</th>\n",
       "      <td>Crime Crackers</td>\n",
       "      <td>PS</td>\n",
       "      <td>1994.0</td>\n",
       "      <td>Role-Playing</td>\n",
       "      <td>0.00</td>\n",
       "      <td>0.00</td>\n",
       "      <td>0.09</td>\n",
       "      <td>0.01</td>\n",
       "      <td>0.0</td>\n",
       "      <td>0</td>\n",
       "      <td>NaN</td>\n",
       "    </tr>\n",
       "    <tr>\n",
       "      <th>5495</th>\n",
       "      <td>Hatsune Miku: Project Diva Extend</td>\n",
       "      <td>PSP</td>\n",
       "      <td>2011.0</td>\n",
       "      <td>Misc</td>\n",
       "      <td>0.00</td>\n",
       "      <td>0.00</td>\n",
       "      <td>0.33</td>\n",
       "      <td>0.00</td>\n",
       "      <td>0.0</td>\n",
       "      <td>0</td>\n",
       "      <td>NaN</td>\n",
       "    </tr>\n",
       "  </tbody>\n",
       "</table>\n",
       "</div>"
      ],
      "text/plain": [
       "                                        name platform  year_of_release  \\\n",
       "2267             EA Sports Grand Slam Tennis      Wii           2009.0   \n",
       "4430           Jikkyou Powerful Pro Yakyuu 9      PS2           2002.0   \n",
       "4560                             The X Files       PS           1999.0   \n",
       "11524  Sherlock Holmes: Crimes & Punishments     XOne           2014.0   \n",
       "1012                The Elder Scrolls Online      PS4           2015.0   \n",
       "16252     Entaku no Seito: Students of Round     X360           2011.0   \n",
       "3045                              Diablo III     XOne           2014.0   \n",
       "5036                   Moto Racer World Tour       PS           2000.0   \n",
       "10677                         Crime Crackers       PS           1994.0   \n",
       "5495       Hatsune Miku: Project Diva Extend      PSP           2011.0   \n",
       "\n",
       "              genre  na_sales  eu_sales  jp_sales  other_sales  critic_score  \\\n",
       "2267         Sports      0.28      0.51      0.02         0.11           0.0   \n",
       "4430         Sports      0.00      0.00      0.44         0.00           0.0   \n",
       "4560      Adventure      0.24      0.16      0.00         0.03           0.0   \n",
       "11524     Adventure      0.03      0.04      0.00         0.01           0.0   \n",
       "1012   Role-Playing      0.67      0.79      0.00         0.29           0.0   \n",
       "16252  Role-Playing      0.00      0.00      0.01         0.00           0.0   \n",
       "3045   Role-Playing      0.36      0.24      0.00         0.06           0.0   \n",
       "5036         Racing      0.21      0.14      0.00         0.02           0.0   \n",
       "10677  Role-Playing      0.00      0.00      0.09         0.01           0.0   \n",
       "5495           Misc      0.00      0.00      0.33         0.00           0.0   \n",
       "\n",
       "      user_score rating  \n",
       "2267           0    NaN  \n",
       "4430           0    NaN  \n",
       "4560           0    NaN  \n",
       "11524          0    NaN  \n",
       "1012           0    NaN  \n",
       "16252          0    NaN  \n",
       "3045           0    NaN  \n",
       "5036           0    NaN  \n",
       "10677          0    NaN  \n",
       "5495           0    NaN  "
      ]
     },
     "execution_count": 85,
     "metadata": {},
     "output_type": "execute_result"
    }
   ],
   "source": [
    "# Revisar los datos NaN de la columna rating\n",
    "rating = sales[sales[\"rating\"].isna()]\n",
    "rating.sample(10)"
   ]
  },
  {
   "cell_type": "code",
   "execution_count": 86,
   "metadata": {},
   "outputs": [],
   "source": [
    "# Rellenar los valores NaN de la columna rating con el valor que más se repite en la columna name\n",
    "# Y si el que mas se repite es NaN, rellenar con \"No rating\"\n",
    "def fill_with_mode(x):\n",
    "    if x.mode().empty or pd.isna(x.mode().iloc[0]):\n",
    "        return x.fillna(\"No rating\")\n",
    "    else:\n",
    "        return x.fillna(x.mode().iloc[0])\n",
    "\n",
    "sales['rating'] = sales.groupby('name')['rating'].transform(fill_with_mode)"
   ]
  },
  {
   "cell_type": "code",
   "execution_count": 87,
   "metadata": {},
   "outputs": [
    {
     "name": "stdout",
     "output_type": "stream",
     "text": [
      "rating\n",
      "No rating    6327\n",
      "E            4153\n",
      "T            3090\n",
      "M            1654\n",
      "E10+         1471\n",
      "EC             10\n",
      "K-A             4\n",
      "RP              3\n",
      "AO              1\n",
      "Name: count, dtype: int64\n"
     ]
    }
   ],
   "source": [
    "# Revisar que se hayan rellenado los valores NaN con el valor que más se repite\n",
    "# o la palabra No rating\n",
    "print(sales[\"rating\"].value_counts())\n"
   ]
  },
  {
   "cell_type": "code",
   "execution_count": 88,
   "metadata": {},
   "outputs": [
    {
     "name": "stdout",
     "output_type": "stream",
     "text": [
      "<class 'pandas.core.frame.DataFrame'>\n",
      "Index: 16713 entries, 0 to 16714\n",
      "Data columns (total 11 columns):\n",
      " #   Column           Non-Null Count  Dtype  \n",
      "---  ------           --------------  -----  \n",
      " 0   name             16713 non-null  object \n",
      " 1   platform         16713 non-null  object \n",
      " 2   year_of_release  16713 non-null  float64\n",
      " 3   genre            16713 non-null  object \n",
      " 4   na_sales         16713 non-null  float64\n",
      " 5   eu_sales         16713 non-null  float64\n",
      " 6   jp_sales         16713 non-null  float64\n",
      " 7   other_sales      16713 non-null  float64\n",
      " 8   critic_score     16713 non-null  float64\n",
      " 9   user_score       16713 non-null  object \n",
      " 10  rating           16713 non-null  object \n",
      "dtypes: float64(6), object(5)\n",
      "memory usage: 1.5+ MB\n"
     ]
    }
   ],
   "source": [
    "# Revisar que ya no tengamos valores con NaN\n",
    "sales.info()"
   ]
  },
  {
   "cell_type": "code",
   "execution_count": 89,
   "metadata": {},
   "outputs": [],
   "source": [
    "# Cambiar el data type de la columna year_of_release a int\n",
    "sales['year_of_release'] = sales['year_of_release'].astype(int)"
   ]
  },
  {
   "cell_type": "code",
   "execution_count": 90,
   "metadata": {},
   "outputs": [
    {
     "name": "stdout",
     "output_type": "stream",
     "text": [
      "<class 'pandas.core.frame.DataFrame'>\n",
      "Index: 16713 entries, 0 to 16714\n",
      "Data columns (total 11 columns):\n",
      " #   Column           Non-Null Count  Dtype  \n",
      "---  ------           --------------  -----  \n",
      " 0   name             16713 non-null  object \n",
      " 1   platform         16713 non-null  object \n",
      " 2   year_of_release  16713 non-null  int64  \n",
      " 3   genre            16713 non-null  object \n",
      " 4   na_sales         16713 non-null  float64\n",
      " 5   eu_sales         16713 non-null  float64\n",
      " 6   jp_sales         16713 non-null  float64\n",
      " 7   other_sales      16713 non-null  float64\n",
      " 8   critic_score     16713 non-null  float64\n",
      " 9   user_score       16713 non-null  object \n",
      " 10  rating           16713 non-null  object \n",
      "dtypes: float64(5), int64(1), object(5)\n",
      "memory usage: 1.5+ MB\n"
     ]
    }
   ],
   "source": [
    "# Revisar que se haya cambiado el data type de la columna year_of_release\n",
    "sales.info()"
   ]
  },
  {
   "cell_type": "markdown",
   "metadata": {},
   "source": [
    "Ya tenemos lista nuestra base sin valores NaN. Se hicieron varios análisis que se describen a continuación\n",
    "\n",
    "year_of_release: Se encontro que varios juegos que tenian valores NaN, en otras plataformas si tenian datos, entonces se reviso cual era la fecha que más se repetia y con esa información se lleno el valor NaN,  en algunos casos, si el dato que mas se repetia todos los valores eran NaN es decir no habia ningúna fecha, se llenaron con el valor de cero.\n",
    "\n",
    "critic_score y user_score: Se reviso que practicamente todos los datos NaN en estas columnas era porque las ventas eran practicamente cero, entonces, no habia suficiente información para que los usuarios y expertos de la industria hayan hecho una valoración, o también, se trataban de juegos muy antiguos , entonces, puede ser que en esas fechas aún no se establecia un protocolo de evaluar los juegos. En la columna user_score encontramos una valor que decia tbd (to be determined) y se vio que igual lo tenian filas que las ventas eran practicamente nulas, entonces se decidio sustituirlo por el valor cero\n",
    "\n",
    "rating: Se decidió manejar los NaN cambiandolos por la palabra No rating\n",
    "\n"
   ]
  },
  {
   "cell_type": "code",
   "execution_count": 91,
   "metadata": {},
   "outputs": [],
   "source": [
    "# Calcular el total de ventas por juego y colocarlo en una nueva columna\n",
    "sales['total_sales'] = sales['na_sales'] + sales['eu_sales'] + sales['jp_sales'] + sales['other_sales']"
   ]
  },
  {
   "cell_type": "code",
   "execution_count": 92,
   "metadata": {},
   "outputs": [
    {
     "data": {
      "text/html": [
       "<div>\n",
       "<style scoped>\n",
       "    .dataframe tbody tr th:only-of-type {\n",
       "        vertical-align: middle;\n",
       "    }\n",
       "\n",
       "    .dataframe tbody tr th {\n",
       "        vertical-align: top;\n",
       "    }\n",
       "\n",
       "    .dataframe thead th {\n",
       "        text-align: right;\n",
       "    }\n",
       "</style>\n",
       "<table border=\"1\" class=\"dataframe\">\n",
       "  <thead>\n",
       "    <tr style=\"text-align: right;\">\n",
       "      <th></th>\n",
       "      <th>name</th>\n",
       "      <th>platform</th>\n",
       "      <th>year_of_release</th>\n",
       "      <th>genre</th>\n",
       "      <th>na_sales</th>\n",
       "      <th>eu_sales</th>\n",
       "      <th>jp_sales</th>\n",
       "      <th>other_sales</th>\n",
       "      <th>critic_score</th>\n",
       "      <th>user_score</th>\n",
       "      <th>rating</th>\n",
       "      <th>total_sales</th>\n",
       "    </tr>\n",
       "  </thead>\n",
       "  <tbody>\n",
       "    <tr>\n",
       "      <th>0</th>\n",
       "      <td>Wii Sports</td>\n",
       "      <td>Wii</td>\n",
       "      <td>2006</td>\n",
       "      <td>Sports</td>\n",
       "      <td>41.36</td>\n",
       "      <td>28.96</td>\n",
       "      <td>3.77</td>\n",
       "      <td>8.45</td>\n",
       "      <td>76.0</td>\n",
       "      <td>8</td>\n",
       "      <td>E</td>\n",
       "      <td>82.54</td>\n",
       "    </tr>\n",
       "    <tr>\n",
       "      <th>1</th>\n",
       "      <td>Super Mario Bros.</td>\n",
       "      <td>NES</td>\n",
       "      <td>1985</td>\n",
       "      <td>Platform</td>\n",
       "      <td>29.08</td>\n",
       "      <td>3.58</td>\n",
       "      <td>6.81</td>\n",
       "      <td>0.77</td>\n",
       "      <td>0.0</td>\n",
       "      <td>0</td>\n",
       "      <td>No rating</td>\n",
       "      <td>40.24</td>\n",
       "    </tr>\n",
       "    <tr>\n",
       "      <th>2</th>\n",
       "      <td>Mario Kart Wii</td>\n",
       "      <td>Wii</td>\n",
       "      <td>2008</td>\n",
       "      <td>Racing</td>\n",
       "      <td>15.68</td>\n",
       "      <td>12.76</td>\n",
       "      <td>3.79</td>\n",
       "      <td>3.29</td>\n",
       "      <td>82.0</td>\n",
       "      <td>8.3</td>\n",
       "      <td>E</td>\n",
       "      <td>35.52</td>\n",
       "    </tr>\n",
       "    <tr>\n",
       "      <th>3</th>\n",
       "      <td>Wii Sports Resort</td>\n",
       "      <td>Wii</td>\n",
       "      <td>2009</td>\n",
       "      <td>Sports</td>\n",
       "      <td>15.61</td>\n",
       "      <td>10.93</td>\n",
       "      <td>3.28</td>\n",
       "      <td>2.95</td>\n",
       "      <td>80.0</td>\n",
       "      <td>8</td>\n",
       "      <td>E</td>\n",
       "      <td>32.77</td>\n",
       "    </tr>\n",
       "    <tr>\n",
       "      <th>4</th>\n",
       "      <td>Pokemon Red/Pokemon Blue</td>\n",
       "      <td>GB</td>\n",
       "      <td>1996</td>\n",
       "      <td>Role-Playing</td>\n",
       "      <td>11.27</td>\n",
       "      <td>8.89</td>\n",
       "      <td>10.22</td>\n",
       "      <td>1.00</td>\n",
       "      <td>0.0</td>\n",
       "      <td>0</td>\n",
       "      <td>No rating</td>\n",
       "      <td>31.38</td>\n",
       "    </tr>\n",
       "  </tbody>\n",
       "</table>\n",
       "</div>"
      ],
      "text/plain": [
       "                       name platform  year_of_release         genre  na_sales  \\\n",
       "0                Wii Sports      Wii             2006        Sports     41.36   \n",
       "1         Super Mario Bros.      NES             1985      Platform     29.08   \n",
       "2            Mario Kart Wii      Wii             2008        Racing     15.68   \n",
       "3         Wii Sports Resort      Wii             2009        Sports     15.61   \n",
       "4  Pokemon Red/Pokemon Blue       GB             1996  Role-Playing     11.27   \n",
       "\n",
       "   eu_sales  jp_sales  other_sales  critic_score user_score     rating  \\\n",
       "0     28.96      3.77         8.45          76.0          8          E   \n",
       "1      3.58      6.81         0.77           0.0          0  No rating   \n",
       "2     12.76      3.79         3.29          82.0        8.3          E   \n",
       "3     10.93      3.28         2.95          80.0          8          E   \n",
       "4      8.89     10.22         1.00           0.0          0  No rating   \n",
       "\n",
       "   total_sales  \n",
       "0        82.54  \n",
       "1        40.24  \n",
       "2        35.52  \n",
       "3        32.77  \n",
       "4        31.38  "
      ]
     },
     "execution_count": 92,
     "metadata": {},
     "output_type": "execute_result"
    }
   ],
   "source": [
    "# Revisar que se haya creado la columna total_sales\n",
    "sales.head()"
   ]
  },
  {
   "cell_type": "markdown",
   "metadata": {},
   "source": [
    "## Análisis de datos"
   ]
  },
  {
   "cell_type": "markdown",
   "metadata": {},
   "source": [
    "Mira cuántos juegos fueron lanzados en diferentes años. ¿Son significativos los datos de cada período?"
   ]
  },
  {
   "cell_type": "code",
   "execution_count": 93,
   "metadata": {},
   "outputs": [
    {
     "data": {
      "text/plain": [
       "year_of_release\n",
       "2008    1441\n",
       "2009    1430\n",
       "2010    1270\n",
       "2007    1202\n",
       "2011    1153\n",
       "2006    1019\n",
       "2005     948\n",
       "2002     845\n",
       "2003     783\n",
       "2004     764\n",
       "2012     662\n",
       "2015     606\n",
       "2014     581\n",
       "2013     548\n",
       "2016     502\n",
       "2001     486\n",
       "1998     379\n",
       "2000     351\n",
       "1999     339\n",
       "1997     289\n",
       "1996     263\n",
       "1995     219\n",
       "0        146\n",
       "1994     122\n",
       "1993      60\n",
       "1981      46\n",
       "1992      43\n",
       "1991      41\n",
       "1982      36\n",
       "1986      21\n",
       "1989      17\n",
       "1983      17\n",
       "1990      16\n",
       "1987      16\n",
       "1988      15\n",
       "1985      14\n",
       "1984      14\n",
       "1980       9\n",
       "Name: count, dtype: int64"
      ]
     },
     "execution_count": 93,
     "metadata": {},
     "output_type": "execute_result"
    }
   ],
   "source": [
    "# Cuántos juegos fueron lanzados en diferentes años\n",
    "games_per_year = sales['year_of_release'].value_counts()\n",
    "games_per_year"
   ]
  },
  {
   "cell_type": "code",
   "execution_count": 94,
   "metadata": {},
   "outputs": [
    {
     "data": {
      "text/plain": [
       "43.71"
      ]
     },
     "execution_count": 94,
     "metadata": {},
     "output_type": "execute_result"
    }
   ],
   "source": [
    "# Revisar las ventas totales de los juegos lanzados años que no tenemos registro\n",
    "zero_year_of_relase = sales[sales[\"year_of_release\"] == 0]\n",
    "sales_zero_year_of_relase = zero_year_of_relase[\"total_sales\"].sum()\n",
    "sales_zero_year_of_relase"
   ]
  },
  {
   "cell_type": "code",
   "execution_count": 95,
   "metadata": {},
   "outputs": [
    {
     "name": "stdout",
     "output_type": "stream",
     "text": [
      "8913.29\n"
     ]
    }
   ],
   "source": [
    "# Total de ventas de todos los juegos durante todos los años\n",
    "print(sales[\"total_sales\"].sum())"
   ]
  },
  {
   "cell_type": "code",
   "execution_count": 96,
   "metadata": {},
   "outputs": [],
   "source": [
    "# Eliminar las filas con el año de lanzamiento igual a cero\n",
    "sales = sales[sales[\"year_of_release\"] != 0]"
   ]
  },
  {
   "cell_type": "code",
   "execution_count": 97,
   "metadata": {},
   "outputs": [
    {
     "name": "stdout",
     "output_type": "stream",
     "text": [
      "year_of_release\n",
      "2008    1441\n",
      "2009    1430\n",
      "2010    1270\n",
      "2007    1202\n",
      "2011    1153\n",
      "2006    1019\n",
      "2005     948\n",
      "2002     845\n",
      "2003     783\n",
      "2004     764\n",
      "2012     662\n",
      "2015     606\n",
      "2014     581\n",
      "2013     548\n",
      "2016     502\n",
      "2001     486\n",
      "1998     379\n",
      "2000     351\n",
      "1999     339\n",
      "1997     289\n",
      "1996     263\n",
      "1995     219\n",
      "1994     122\n",
      "1993      60\n",
      "1981      46\n",
      "1992      43\n",
      "1991      41\n",
      "1982      36\n",
      "1986      21\n",
      "1989      17\n",
      "1983      17\n",
      "1990      16\n",
      "1987      16\n",
      "1988      15\n",
      "1985      14\n",
      "1984      14\n",
      "1980       9\n",
      "Name: count, dtype: int64\n"
     ]
    }
   ],
   "source": [
    "# Revisar que se hayan eliminado las filas con el año de lanzamiento igual a cero\n",
    "print(sales['year_of_release'].value_counts())"
   ]
  },
  {
   "cell_type": "markdown",
   "metadata": {},
   "source": [
    "Observa cómo varían las ventas de una plataforma a otra. Elige las plataformas con las mayores ventas totales y construye una distribución basada en los datos de cada año. Busca las plataformas que solían ser populares pero que ahora no tienen ventas. ¿Cuánto tardan generalmente las nuevas plataformas en aparecer y las antiguas en desaparecer?"
   ]
  },
  {
   "cell_type": "code",
   "execution_count": 98,
   "metadata": {},
   "outputs": [
    {
     "data": {
      "text/plain": [
       "platform\n",
       "PS2     1247.16\n",
       "X360     966.61\n",
       "PS3      935.19\n",
       "Wii      903.31\n",
       "DS       804.28\n",
       "PS       727.58\n",
       "PS4      314.14\n",
       "GBA      313.73\n",
       "PSP      293.57\n",
       "PC       258.86\n",
       "3DS      258.53\n",
       "XB       256.69\n",
       "GB       254.43\n",
       "NES      251.05\n",
       "N64      218.48\n",
       "SNES     200.04\n",
       "GC       198.66\n",
       "XOne     159.32\n",
       "2600      89.01\n",
       "WiiU      82.19\n",
       "PSV       53.81\n",
       "SAT       33.59\n",
       "GEN       28.35\n",
       "DC        15.95\n",
       "SCD        1.86\n",
       "NG         1.44\n",
       "WS         1.42\n",
       "TG16       0.16\n",
       "3DO        0.10\n",
       "GG         0.04\n",
       "PCFX       0.03\n",
       "Name: total_sales, dtype: float64"
      ]
     },
     "execution_count": 98,
     "metadata": {},
     "output_type": "execute_result"
    }
   ],
   "source": [
    "# Las plataformas con mayores ventas totales\n",
    "platform_sales = sales.groupby('platform')['total_sales'].sum().sort_values(ascending=False)\n",
    "platform_sales\n"
   ]
  },
  {
   "cell_type": "code",
   "execution_count": 99,
   "metadata": {},
   "outputs": [
    {
     "data": {
      "text/plain": [
       "Index(['PS2', 'X360', 'PS3', 'Wii', 'DS', 'PS', 'PS4', 'GBA', 'PSP', 'PC'], dtype='object', name='platform')"
      ]
     },
     "execution_count": 99,
     "metadata": {},
     "output_type": "execute_result"
    }
   ],
   "source": [
    "# Tomar las 10 plataformas con mayores ventas totales\n",
    "top_10_platforms = platform_sales.head(10).index\n",
    "top_10_platforms\n"
   ]
  },
  {
   "cell_type": "code",
   "execution_count": 100,
   "metadata": {},
   "outputs": [
    {
     "data": {
      "image/png": "[encoded data removed]",
      "text/plain": [
       "<Figure size 640x480 with 1 Axes>"
      ]
     },
     "metadata": {},
     "output_type": "display_data"
    }
   ],
   "source": [
    "# Crear una distribución de las ventas por año de nuestras plataformas top 10\n",
    "for platform in top_10_platforms:\n",
    "    platform_data = sales[sales['platform'] == platform]\n",
    "    yearly_sales = platform_data.groupby('year_of_release')['total_sales'].sum()\n",
    "    yearly_sales.plot(label=platform)\n",
    "\n",
    "plt.xlabel('Año de lanzamiento')\n",
    "plt.ylabel('Ventas totales')\n",
    "plt.legend()\n",
    "plt.show()"
   ]
  },
  {
   "cell_type": "markdown",
   "metadata": {},
   "source": [
    "Es interesante ver como cuando las ventas de los videjuegos de ciertas consolas ya iban practiamente a llegar fondo es cuando salía una plataforma más moderna, es una tendencia que se practicamente en todas las consolas, a excepción de los juegos de PC que se mantienen realmente constantes."
   ]
  },
  {
   "cell_type": "code",
   "execution_count": 101,
   "metadata": {},
   "outputs": [
    {
     "name": "stdout",
     "output_type": "stream",
     "text": [
      "Plataformas populares sin ventas actuales: ['PS2', 'DS', 'PS', 'GBA', 'PSP', 'XB', 'GB', 'NES', 'N64', 'SNES', 'GC', '2600', 'SAT', 'GEN', 'DC', 'SCD', 'NG', 'WS', 'TG16', '3DO', 'GG', 'PCFX']\n"
     ]
    }
   ],
   "source": [
    "# Plataformas que solían ser populares pero que ahora no tienen ventas\n",
    "\n",
    "# Identificar las plataformas con el mayor número de ventas por todos los años\n",
    "total_sales = sales.groupby('platform')['total_sales'].sum()\n",
    "popular_platforms = total_sales.sort_values(ascending=False).index\n",
    "\n",
    "# Ver si las plataformas anteriores tienen ventas en el año mas reciente\n",
    "current_year = sales['year_of_release'].max()\n",
    "sales_current_year = sales[sales['year_of_release'] == current_year]\n",
    "\n",
    "platforms_no_sales = []\n",
    "for platform in popular_platforms:\n",
    "    if platform not in sales_current_year['platform'].unique():\n",
    "        platforms_no_sales.append(platform)\n",
    "\n",
    "print(\"Plataformas populares sin ventas actuales:\", platforms_no_sales)"
   ]
  },
  {
   "cell_type": "code",
   "execution_count": 102,
   "metadata": {},
   "outputs": [
    {
     "name": "stdout",
     "output_type": "stream",
     "text": [
      "Vida promedio de una plataforma: 8.225806451612904\n"
     ]
    }
   ],
   "source": [
    "# Analizar la vida útil de las plataformas\n",
    "platform_lifespan = sales.groupby('platform')['year_of_release'].max() - sales.groupby('platform')['year_of_release'].min()\n",
    "average_lifespan = platform_lifespan.mean()\n",
    "print(\"Vida promedio de una plataforma:\", average_lifespan)"
   ]
  },
  {
   "cell_type": "code",
   "execution_count": 103,
   "metadata": {},
   "outputs": [],
   "source": [
    "# Determinar para que periodo tomar datos\n",
    "\n",
    "# Obtener el año mas reciente\n",
    "max_year = sales['year_of_release'].max()\n",
    "\n",
    "# Filtrar la dataframe que incluya solamente las plataformas con la vida promedio\n",
    "sales_to_use = sales[sales['year_of_release'] > max_year - average_lifespan]\n",
    "\n"
   ]
  },
  {
   "cell_type": "code",
   "execution_count": 104,
   "metadata": {},
   "outputs": [
    {
     "name": "stdout",
     "output_type": "stream",
     "text": [
      "<class 'pandas.core.frame.DataFrame'>\n",
      "Index: 8193 entries, 2 to 16714\n",
      "Data columns (total 12 columns):\n",
      " #   Column           Non-Null Count  Dtype  \n",
      "---  ------           --------------  -----  \n",
      " 0   name             8193 non-null   object \n",
      " 1   platform         8193 non-null   object \n",
      " 2   year_of_release  8193 non-null   int64  \n",
      " 3   genre            8193 non-null   object \n",
      " 4   na_sales         8193 non-null   float64\n",
      " 5   eu_sales         8193 non-null   float64\n",
      " 6   jp_sales         8193 non-null   float64\n",
      " 7   other_sales      8193 non-null   float64\n",
      " 8   critic_score     8193 non-null   float64\n",
      " 9   user_score       8193 non-null   object \n",
      " 10  rating           8193 non-null   object \n",
      " 11  total_sales      8193 non-null   float64\n",
      "dtypes: float64(6), int64(1), object(5)\n",
      "memory usage: 832.1+ KB\n"
     ]
    }
   ],
   "source": [
    "# Revisar el nuevo dataset que vamos a utilizar\n",
    "sales_to_use.info()"
   ]
  },
  {
   "cell_type": "code",
   "execution_count": 105,
   "metadata": {},
   "outputs": [
    {
     "name": "stdout",
     "output_type": "stream",
     "text": [
      "Lideres en ventas: Index(['PS3', 'X360', 'Wii', 'DS', 'PS4', '3DS', 'XOne', 'PC', 'PSP', 'PS2',\n",
      "       'WiiU', 'PSV'],\n",
      "      dtype='object', name='platform')\n",
      "Plataformas con ventas en aumento: Index([], dtype='object', name='platform')\n",
      "Plataformas con ventas en disminución: Index(['3DS', 'PC', 'PS3', 'PS4', 'PSV', 'Wii', 'WiiU', 'X360', 'XOne'], dtype='object', name='platform')\n"
     ]
    }
   ],
   "source": [
    "\n",
    "# Plataformas con las ventas más altas\n",
    "total_sales = sales_to_use.groupby('platform')['total_sales'].sum()\n",
    "sales_leaders = total_sales.sort_values(ascending=False).head(12)\n",
    "print(\"Lideres en ventas:\", sales_leaders.index)\n",
    "\n",
    "# Identificar plataformas con ventas en aumento\n",
    "sales_by_year = sales_to_use.pivot_table(index='year_of_release', columns='platform', values='total_sales', aggfunc='sum')\n",
    "increasing_sales_platforms = sales_by_year.loc[:, sales_by_year.diff().iloc[-1] > 0].columns\n",
    "print(\"Plataformas con ventas en aumento:\", increasing_sales_platforms)\n",
    "\n",
    "# Identificar plataformas con ventas en disminución\n",
    "decreasing_sales_platforms = sales_by_year.loc[:, sales_by_year.diff().iloc[-1] < 0].columns\n",
    "print(\"Plataformas con ventas en disminución:\", decreasing_sales_platforms)\n",
    "\n"
   ]
  },
  {
   "cell_type": "markdown",
   "metadata": {},
   "source": [
    "Con esta información vemos que practicamente todas las ventas de las plataformas estan en descenso sin embargo considerando que una plataforma tiene una vida de 8 años desde su lanzamiento , tenemos que ver cuales tienen todavia potencial de ventas considerando que estamos planeando hacer un pronóstico para el 2017. En la parte de abajo creo una distribución para ver que plataformas acaban de salir. "
   ]
  },
  {
   "cell_type": "code",
   "execution_count": 106,
   "metadata": {},
   "outputs": [
    {
     "data": {
      "image/png": "[encoded data removed]",
      "text/plain": [
       "<Figure size 640x480 with 1 Axes>"
      ]
     },
     "metadata": {},
     "output_type": "display_data"
    }
   ],
   "source": [
    "# Crear una distribución de las ventas por año de nuestras lideres en ventas\n",
    "for platform in sales_leaders.index:\n",
    "    platform_data2 = sales_to_use[sales_to_use['platform'] == platform]\n",
    "    yearly_sales2 = platform_data2.groupby('year_of_release')['total_sales'].sum()\n",
    "    yearly_sales2.plot(label=platform)\n",
    "\n",
    "plt.xlabel('Año de lanzamiento')\n",
    "plt.ylabel('Ventas totales')\n",
    "plt.legend()\n",
    "plt.show()"
   ]
  },
  {
   "cell_type": "markdown",
   "metadata": {},
   "source": [
    "Con base en la gráfica anterior vemos que la plataforma PS4 y xboxone salieron en el 2013, y si bien sus ventas están en descenso todavia le queda potencial de mercado hasta el 2021. También se ve que historicamente las plataformas de PS y xbox han tenido la mayor cantidad de ventas. En análisis anteriores vimos como aproximandamente unos tres años antes de que se cumpla el plazo promedio de 8 años de duración de una plataforma, se saca una plataforma más reciente.\n"
   ]
  },
  {
   "cell_type": "markdown",
   "metadata": {},
   "source": [
    "Crea un diagrama de caja para las ventas globales de todos los juegos, desglosados por plataforma. ¿Son significativas las diferencias en las ventas? ¿Qué sucede con las ventas promedio en varias plataformas? Describe tus hallazgos.\n"
   ]
  },
  {
   "cell_type": "code",
   "execution_count": 107,
   "metadata": {},
   "outputs": [
    {
     "data": {
      "image/png": "[encoded data removed]",
      "text/plain": [
       "<Figure size 1200x800 with 1 Axes>"
      ]
     },
     "metadata": {},
     "output_type": "display_data"
    }
   ],
   "source": [
    "# Crear el diagrama de caja\n",
    "plt.figure(figsize=(12, 8))\n",
    "plt.boxplot([sales_to_use[sales_to_use['platform'] == platform]['total_sales'] for platform in sales_to_use['platform'].unique()])\n",
    "plt.xticks(range(1, len(sales_to_use['platform'].unique()) + 1), sales_to_use['platform'].unique(), rotation=90)\n",
    "plt.xlabel('Plataforma')\n",
    "plt.ylabel('Ventas globales (millones)')\n",
    "plt.title('Ventas globales de juegos por plataforma')\n",
    "plt.show()"
   ]
  },
  {
   "cell_type": "markdown",
   "metadata": {},
   "source": [
    "Se aprecia como las ventas promedio de las plataformas parece se parecida, depende mucho del momento en que se encuentra cada una y si sacan versiones más modernas, también si tiene poco tiempo que salio al mercado o si ya se acerque a los 8 años que dura en promedio una plataforma. También tenemos muchos valores atípicos que pueden ser los juegos que son únicos en cada plataforma y más esperados. Se aprecia como la plataforma xbox360 y ps3 son los que más ventas tienen"
   ]
  },
  {
   "cell_type": "markdown",
   "metadata": {},
   "source": [
    "**************************"
   ]
  },
  {
   "cell_type": "markdown",
   "metadata": {},
   "source": [
    "Mira cómo las reseñas de usuarios y profesionales afectan las ventas de una plataforma popular (tu elección). Crea un gráfico de dispersión y calcula la correlación entre las reseñas y las ventas. Saca conclusiones."
   ]
  },
  {
   "cell_type": "code",
   "execution_count": 108,
   "metadata": {},
   "outputs": [
    {
     "name": "stderr",
     "output_type": "stream",
     "text": [
      "/var/folders/8x/vjvsm00d2tqc_t6b_jbfcknh0000gn/T/ipykernel_21254/3699022935.py:2: SettingWithCopyWarning: \n",
      "A value is trying to be set on a copy of a slice from a DataFrame.\n",
      "Try using .loc[row_indexer,col_indexer] = value instead\n",
      "\n",
      "See the caveats in the documentation: https://pandas.pydata.org/pandas-docs/stable/user_guide/indexing.html#returning-a-view-versus-a-copy\n",
      "  sales_to_use['user_score'] = sales_to_use['user_score'].astype(float)\n"
     ]
    }
   ],
   "source": [
    "# Transformar la columna user_score a float\n",
    "sales_to_use['user_score'] = sales_to_use['user_score'].astype(float)"
   ]
  },
  {
   "cell_type": "code",
   "execution_count": 109,
   "metadata": {},
   "outputs": [
    {
     "data": {
      "image/png": "[encoded data removed]",
      "text/plain": [
       "<Figure size 640x480 with 1 Axes>"
      ]
     },
     "metadata": {},
     "output_type": "display_data"
    },
    {
     "name": "stdout",
     "output_type": "stream",
     "text": [
      "Correlación entre Reseñas de Usuarios y Ventas Totales (PS4): 0.11311562450852876\n"
     ]
    },
    {
     "data": {
      "image/png": "[encoded data removed]",
      "text/plain": [
       "<Figure size 640x480 with 1 Axes>"
      ]
     },
     "metadata": {},
     "output_type": "display_data"
    },
    {
     "name": "stdout",
     "output_type": "stream",
     "text": [
      "Correlación entre Reseñas de Criticos y Ventas Totales (PS4): 0.22754960627752685\n"
     ]
    }
   ],
   "source": [
    "# Filtrar los datos para la plataforma PS4\n",
    "ps4_data = sales_to_use[sales_to_use['platform'] == 'PS4']\n",
    "\n",
    "# Crear el gráfico de dispersión para user_score vs total_sales\n",
    "plt.scatter(ps4_data['user_score'], ps4_data['total_sales'])\n",
    "plt.xlabel('Reseñas de Usuarios')\n",
    "plt.ylabel('Ventas Totales')\n",
    "plt.title('Correlación entre Reseñas de Usuarios y Ventas Totales (PS4)')\n",
    "plt.show()\n",
    "\n",
    "# Calcular la correlación para user_score vs total_sales\n",
    "user_score_correlation = ps4_data['user_score'].corr(ps4_data['total_sales'])\n",
    "print('Correlación entre Reseñas de Usuarios y Ventas Totales (PS4):', user_score_correlation)\n",
    "\n",
    "# Crear el gráfico de dispersión para critic_score vs total_sales\n",
    "plt.scatter(ps4_data['critic_score'], ps4_data['total_sales'])\n",
    "plt.xlabel('Reseñas de Criticos')\n",
    "plt.ylabel('Ventas Totales')\n",
    "plt.title('Correlación entre Reseñas de Criticos y Ventas Totales (PS4)')\n",
    "plt.show()\n",
    "\n",
    "# Calcular la correlación para critic_score vs total_sales\n",
    "critic_score_correlation = ps4_data['critic_score'].corr(ps4_data['total_sales'])\n",
    "print('Correlación entre Reseñas de Criticos y Ventas Totales (PS4):', critic_score_correlation)\n"
   ]
  },
  {
   "cell_type": "markdown",
   "metadata": {},
   "source": [
    "Vamos a interpretar los resultados obtenidos por los diagramas de dispersión y la ventas totales\n",
    "\n",
    "* Reseñas usarios vs total ventas: En el gráfico los puntos estan muy dispersos, no se nota una tendencia marcada, y esto igual se comprueba cuando hacemos la prueba de correlación, en donde el resultado es de 0.1131. Como dato , mientra más cerca el valor este de 1 o -1 señalaria una relación fuerte positiva o negativa como fuera el caso.\n",
    "\n",
    "* Reseñas criticos vs total ventas: En el gráfico se muentra una tendencia positiva levemente marcada, igual esto se comprueba en en la prueba de correlación, en donde el resultado es de 0.2275. Sin embargo, sigue siendo débil la relación."
   ]
  },
  {
   "cell_type": "markdown",
   "metadata": {},
   "source": [
    "**************************"
   ]
  },
  {
   "cell_type": "markdown",
   "metadata": {},
   "source": [
    "Teniendo en las conclusiones anteriores compararé las ventas de los mismos juegos en otras plataformas"
   ]
  },
  {
   "cell_type": "code",
   "execution_count": 110,
   "metadata": {},
   "outputs": [
    {
     "data": {
      "image/png": "[encoded data removed]",
      "text/plain": [
       "<Figure size 640x480 with 1 Axes>"
      ]
     },
     "metadata": {},
     "output_type": "display_data"
    }
   ],
   "source": [
    "# Revisar el comportamiento de las ventas de FIFA 14 por plataforma\n",
    "game_data = sales_to_use[sales_to_use['name'] == 'FIFA 14']\n",
    "\n",
    "# Ordenar los datos por total_sales para una mejor visualización\n",
    "game_data = game_data.sort_values('total_sales')\n",
    "\n",
    "# Crear una gráfica de barras con las plataformas en el eje x y las ventas totales en el eje y\n",
    "plt.bar(game_data['platform'], game_data['total_sales'])\n",
    "\n",
    "# Agregar etiquetas al eje x y al eje y\n",
    "plt.xlabel('Plataforma')\n",
    "plt.ylabel('Ventas Totales (millones)')\n",
    "plt.title('Ventas totales de FIFA 14 por plataforma')\n",
    "\n",
    "# Mostrar la gráfica\n",
    "plt.show()"
   ]
  },
  {
   "cell_type": "code",
   "execution_count": 111,
   "metadata": {},
   "outputs": [
    {
     "name": "stdout",
     "output_type": "stream",
     "text": [
      "Promedio de reseñas de usuarios para FIFA 14: platform\n",
      "PS4     6.3\n",
      "XOne    5.8\n",
      "PC      4.6\n",
      "PS3     4.3\n",
      "Wii     4.3\n",
      "X360    4.2\n",
      "PSP     3.4\n",
      "PSV     1.8\n",
      "3DS     0.0\n",
      "Name: user_score, dtype: float64\n"
     ]
    }
   ],
   "source": [
    "# Calcular el promedio de reseñas de usuarios para FIFA 14 por plataforma\n",
    "fifa14_game = sales_to_use[sales_to_use[\"name\"] == \"FIFA 14\"]\n",
    "average_per_platform = fifa14_game.groupby('platform')['user_score'].mean()\n",
    "print(\"Promedio de reseñas de usuarios para FIFA 14:\", average_per_platform.sort_values(ascending=False))"
   ]
  },
  {
   "cell_type": "code",
   "execution_count": 112,
   "metadata": {},
   "outputs": [
    {
     "data": {
      "image/png": "[encoded data removed]",
      "text/plain": [
       "<Figure size 640x480 with 1 Axes>"
      ]
     },
     "metadata": {},
     "output_type": "display_data"
    }
   ],
   "source": [
    "# Revisar el comportamiento de las ventas de FIFA 15 por plataforma\n",
    "game_data = sales_to_use[sales_to_use['name'] == 'FIFA 15']\n",
    "\n",
    "# Ordenar los datos por total_sales para una mejor visualización\n",
    "game_data = game_data.sort_values('total_sales')\n",
    "\n",
    "# Crear una gráfica de barras con las plataformas en el eje x y las ventas totales en el eje y\n",
    "plt.bar(game_data['platform'], game_data['total_sales'])\n",
    "\n",
    "# Agregar etiquetas al eje x y al eje y\n",
    "plt.xlabel('Plataforma')\n",
    "plt.ylabel('Ventas Totales (millones)')\n",
    "plt.title('Ventas totales de FIFA 15 por plataforma')\n",
    "\n",
    "# Mostrar la gráfica\n",
    "plt.show()"
   ]
  },
  {
   "cell_type": "code",
   "execution_count": 113,
   "metadata": {},
   "outputs": [
    {
     "name": "stdout",
     "output_type": "stream",
     "text": [
      "Promedio de reseñas de usuarios para FIFA 15: platform\n",
      "PS4     5.7\n",
      "XOne    5.4\n",
      "PS3     4.5\n",
      "Wii     4.3\n",
      "PC      4.2\n",
      "X360    4.2\n",
      "PSV     3.1\n",
      "3DS     2.4\n",
      "Name: user_score, dtype: float64\n"
     ]
    }
   ],
   "source": [
    "# Calcular el promedio de reseñas de usuarios para FIFA 15 por plataforma\n",
    "\n",
    "fifa15_game = sales_to_use[sales_to_use[\"name\"] == \"FIFA 15\"]\n",
    "average_per_platform = fifa15_game.groupby('platform')['user_score'].mean()\n",
    "print(\"Promedio de reseñas de usuarios para FIFA 15:\", average_per_platform.sort_values(ascending=False))\n"
   ]
  },
  {
   "cell_type": "markdown",
   "metadata": {},
   "source": [
    "Se puede apreciar como las calificaciones promedios que dieron los usuarios de los juegos FIFA 14 y FIFA 15 parece no tener realmente una relación directa en la cantidad de ventas que se tiene en cada plataforma. Mas bien , puede ser que más bien se compra esos juegos en específico en ciertas plataformas por otros factores.\n"
   ]
  },
  {
   "cell_type": "markdown",
   "metadata": {},
   "source": [
    "********************************"
   ]
  },
  {
   "cell_type": "markdown",
   "metadata": {},
   "source": [
    "Echa un vistazo a la distribución general de los juegos por género. ¿Qué se puede decir de los géneros más rentables? ¿Puedes generalizar acerca de los géneros con ventas altas y bajas?\n"
   ]
  },
  {
   "cell_type": "code",
   "execution_count": 114,
   "metadata": {},
   "outputs": [
    {
     "data": {
      "image/png": "[encoded data removed]",
      "text/plain": [
       "<Figure size 640x480 with 1 Axes>"
      ]
     },
     "metadata": {},
     "output_type": "display_data"
    }
   ],
   "source": [
    "# Agrupar los datos por género y contar el número de ocurrencias para cada juego\n",
    "game_distribution = sales_to_use.groupby('genre')['name'].count()\n",
    "\n",
    "# Graficar la distribución de juegos por género\n",
    "game_distribution.plot(kind='bar')\n",
    "plt.xlabel('Genero')\n",
    "plt.ylabel('Cantidad de Juegos')\n",
    "plt.title('Distribución de Juegos por Genero')\n",
    "plt.show()\n",
    "\n"
   ]
  },
  {
   "cell_type": "code",
   "execution_count": 115,
   "metadata": {},
   "outputs": [
    {
     "data": {
      "image/png": "[encoded data removed]",
      "text/plain": [
       "<Figure size 640x480 with 1 Axes>"
      ]
     },
     "metadata": {},
     "output_type": "display_data"
    }
   ],
   "source": [
    "# Agrupar los datos por género y sumar las ventas totales\n",
    "game_sales = sales_to_use.groupby('genre')['total_sales'].sum()\n",
    "\n",
    "# Graficar la distribución de juegos por genero y en relación a las ventas totales\n",
    "game_sales.plot(kind='bar')\n",
    "plt.xlabel('Genero')\n",
    "plt.ylabel('Ventas Totales (millones)')\n",
    "plt.title('Distribución de Ventas por Genero')\n",
    "plt.show()"
   ]
  },
  {
   "cell_type": "markdown",
   "metadata": {},
   "source": [
    "La cantidad de juegos que hay de acción y las ventas en dicha categoría tiene una relación directamente proporcional, sin embargo, este comportamiento no se en todas las categorías. Por ejemplo, la cantidad de juegos de la categoria Shooter es menor que varias categorías sin embargo genera más venta que todas las demás (sin sobrepasar la de acción claro)\n",
    "\n",
    "Con la información anterior se pueden sacar conclusiones importantes, por ejemplo, desde el punto de vista de los desarrolladores de juegos, invertir más capital en la categoría shooter no tanto en la cantidad de juegos sino en la calidad de los mismos, ya que genera más ventas que muchas otras categorías por ejemplo Role-Playing,Strategy y Fighting. Y por el lado de la tienda online, trasladar más presupuesto de marketing a los juegos de la categoría shooter que a otros juegos, incluyendo inclusive el tipo de acuerdo comercial que se tienen con la empresas que los crean. "
   ]
  },
  {
   "cell_type": "markdown",
   "metadata": {},
   "source": [
    "## Crear un perfil de usuario por cada región"
   ]
  },
  {
   "cell_type": "markdown",
   "metadata": {},
   "source": [
    "Para cada región (NA, UE, JP) determina:\n",
    "\n",
    "* Las cinco plataformas principales.\n",
    "* Describe las variaciones en sus cuotas de mercado de una región a otra.\n",
    "* Los cinco géneros principales. Explica la diferencia.\n",
    "* Si las clasificaciones de ESRB afectan a las ventas en regiones individuales.\n"
   ]
  },
  {
   "cell_type": "code",
   "execution_count": 116,
   "metadata": {},
   "outputs": [
    {
     "data": {
      "text/html": [
       "<div>\n",
       "<style scoped>\n",
       "    .dataframe tbody tr th:only-of-type {\n",
       "        vertical-align: middle;\n",
       "    }\n",
       "\n",
       "    .dataframe tbody tr th {\n",
       "        vertical-align: top;\n",
       "    }\n",
       "\n",
       "    .dataframe thead th {\n",
       "        text-align: right;\n",
       "    }\n",
       "</style>\n",
       "<table border=\"1\" class=\"dataframe\">\n",
       "  <thead>\n",
       "    <tr style=\"text-align: right;\">\n",
       "      <th></th>\n",
       "      <th>na_sales</th>\n",
       "      <th>eu_sales</th>\n",
       "      <th>jp_sales</th>\n",
       "    </tr>\n",
       "    <tr>\n",
       "      <th>platform</th>\n",
       "      <th></th>\n",
       "      <th></th>\n",
       "      <th></th>\n",
       "    </tr>\n",
       "  </thead>\n",
       "  <tbody>\n",
       "    <tr>\n",
       "      <th>X360</th>\n",
       "      <td>599.15</td>\n",
       "      <td>269.79</td>\n",
       "      <td>NaN</td>\n",
       "    </tr>\n",
       "    <tr>\n",
       "      <th>PS2</th>\n",
       "      <td>580.09</td>\n",
       "      <td>337.05</td>\n",
       "      <td>137.74</td>\n",
       "    </tr>\n",
       "    <tr>\n",
       "      <th>Wii</th>\n",
       "      <td>494.01</td>\n",
       "      <td>261.48</td>\n",
       "      <td>NaN</td>\n",
       "    </tr>\n",
       "    <tr>\n",
       "      <th>PS3</th>\n",
       "      <td>391.60</td>\n",
       "      <td>328.97</td>\n",
       "      <td>NaN</td>\n",
       "    </tr>\n",
       "    <tr>\n",
       "      <th>DS</th>\n",
       "      <td>381.38</td>\n",
       "      <td>NaN</td>\n",
       "      <td>175.02</td>\n",
       "    </tr>\n",
       "    <tr>\n",
       "      <th>PS</th>\n",
       "      <td>NaN</td>\n",
       "      <td>212.39</td>\n",
       "      <td>139.78</td>\n",
       "    </tr>\n",
       "    <tr>\n",
       "      <th>SNES</th>\n",
       "      <td>NaN</td>\n",
       "      <td>NaN</td>\n",
       "      <td>116.55</td>\n",
       "    </tr>\n",
       "    <tr>\n",
       "      <th>3DS</th>\n",
       "      <td>NaN</td>\n",
       "      <td>NaN</td>\n",
       "      <td>100.64</td>\n",
       "    </tr>\n",
       "  </tbody>\n",
       "</table>\n",
       "</div>"
      ],
      "text/plain": [
       "          na_sales  eu_sales  jp_sales\n",
       "platform                              \n",
       "X360        599.15    269.79       NaN\n",
       "PS2         580.09    337.05    137.74\n",
       "Wii         494.01    261.48       NaN\n",
       "PS3         391.60    328.97       NaN\n",
       "DS          381.38       NaN    175.02\n",
       "PS             NaN    212.39    139.78\n",
       "SNES           NaN       NaN    116.55\n",
       "3DS            NaN       NaN    100.64"
      ]
     },
     "execution_count": 116,
     "metadata": {},
     "output_type": "execute_result"
    }
   ],
   "source": [
    "# Las 5 plataformas con mayores ventas en Norteamérica, Europa y Japón\n",
    "top_five_na_sales = sales.groupby('platform')['na_sales'].sum().nlargest(5)\n",
    "top_five_eu_sales = sales.groupby('platform')['eu_sales'].sum().nlargest(5)\n",
    "top_five_jp_sales = sales.groupby('platform')['jp_sales'].sum().nlargest(5)\n",
    "\n",
    "top_five_platforms = pd.concat([top_five_na_sales, top_five_eu_sales, top_five_jp_sales], axis=1)\n",
    "top_five_platforms.columns = ['na_sales', 'eu_sales', 'jp_sales']\n",
    "\n",
    "top_five_platforms\n"
   ]
  },
  {
   "cell_type": "markdown",
   "metadata": {},
   "source": [
    "Se aprecia como mientras que en ciertas plataformas unas regiones tienen la mayor cantidad de ventas como es Norteamérica y Europa con el X360, esa consola en la región de Japón no esta en sus 5 principales plataformas. Y por otro lado, en Japón su plataforma SNES en su cuarto lugar de ventas , en las demás regiones ni siquiera esta en tu top 5."
   ]
  },
  {
   "cell_type": "code",
   "execution_count": 117,
   "metadata": {},
   "outputs": [
    {
     "data": {
      "text/html": [
       "<div>\n",
       "<style scoped>\n",
       "    .dataframe tbody tr th:only-of-type {\n",
       "        vertical-align: middle;\n",
       "    }\n",
       "\n",
       "    .dataframe tbody tr th {\n",
       "        vertical-align: top;\n",
       "    }\n",
       "\n",
       "    .dataframe thead th {\n",
       "        text-align: right;\n",
       "    }\n",
       "</style>\n",
       "<table border=\"1\" class=\"dataframe\">\n",
       "  <thead>\n",
       "    <tr style=\"text-align: right;\">\n",
       "      <th></th>\n",
       "      <th>na_sales</th>\n",
       "      <th>eu_sales</th>\n",
       "      <th>jp_sales</th>\n",
       "    </tr>\n",
       "    <tr>\n",
       "      <th>genre</th>\n",
       "      <th></th>\n",
       "      <th></th>\n",
       "      <th></th>\n",
       "    </tr>\n",
       "  </thead>\n",
       "  <tbody>\n",
       "    <tr>\n",
       "      <th>Action</th>\n",
       "      <td>873.70</td>\n",
       "      <td>517.58</td>\n",
       "      <td>160.15</td>\n",
       "    </tr>\n",
       "    <tr>\n",
       "      <th>Sports</th>\n",
       "      <td>681.69</td>\n",
       "      <td>375.60</td>\n",
       "      <td>135.27</td>\n",
       "    </tr>\n",
       "    <tr>\n",
       "      <th>Shooter</th>\n",
       "      <td>590.35</td>\n",
       "      <td>316.96</td>\n",
       "      <td>NaN</td>\n",
       "    </tr>\n",
       "    <tr>\n",
       "      <th>Platform</th>\n",
       "      <td>444.44</td>\n",
       "      <td>NaN</td>\n",
       "      <td>130.71</td>\n",
       "    </tr>\n",
       "    <tr>\n",
       "      <th>Misc</th>\n",
       "      <td>401.69</td>\n",
       "      <td>211.32</td>\n",
       "      <td>108.04</td>\n",
       "    </tr>\n",
       "    <tr>\n",
       "      <th>Racing</th>\n",
       "      <td>NaN</td>\n",
       "      <td>235.47</td>\n",
       "      <td>NaN</td>\n",
       "    </tr>\n",
       "    <tr>\n",
       "      <th>Role-Playing</th>\n",
       "      <td>NaN</td>\n",
       "      <td>NaN</td>\n",
       "      <td>353.88</td>\n",
       "    </tr>\n",
       "  </tbody>\n",
       "</table>\n",
       "</div>"
      ],
      "text/plain": [
       "              na_sales  eu_sales  jp_sales\n",
       "genre                                     \n",
       "Action          873.70    517.58    160.15\n",
       "Sports          681.69    375.60    135.27\n",
       "Shooter         590.35    316.96       NaN\n",
       "Platform        444.44       NaN    130.71\n",
       "Misc            401.69    211.32    108.04\n",
       "Racing             NaN    235.47       NaN\n",
       "Role-Playing       NaN       NaN    353.88"
      ]
     },
     "execution_count": 117,
     "metadata": {},
     "output_type": "execute_result"
    }
   ],
   "source": [
    "# Los 5 géneros con mayores ventas en Norteamérica, Europa y Japón\n",
    "top_five_na_sales2 = sales.groupby('genre')['na_sales'].sum().nlargest(5)\n",
    "top_five_eu_sales2 = sales.groupby('genre')['eu_sales'].sum().nlargest(5)\n",
    "top_five_jp_sales2 = sales.groupby('genre')['jp_sales'].sum().nlargest(5)\n",
    "\n",
    "top_five_genres = pd.concat([top_five_na_sales2, top_five_eu_sales2, top_five_jp_sales2], axis=1)\n",
    "top_five_genres.columns = ['na_sales', 'eu_sales', 'jp_sales']\n",
    "\n",
    "top_five_genres"
   ]
  },
  {
   "cell_type": "markdown",
   "metadata": {},
   "source": [
    "Comparando las ventas de cada región con base en el género de los juegos, vemos como mientras en Norteamérica y Europra el genero acción es el que más ventas tiene, en Japón es el Role-Playing. Con esta información, se pueden crear estrategias de marketing focalizadas por región con base en el tipo de género que más se vende o que los usuarios buscan."
   ]
  },
  {
   "cell_type": "code",
   "execution_count": 118,
   "metadata": {},
   "outputs": [
    {
     "data": {
      "image/png": "[encoded data removed]",
      "text/plain": [
       "<Figure size 640x480 with 1 Axes>"
      ]
     },
     "metadata": {},
     "output_type": "display_data"
    },
    {
     "data": {
      "image/png": "[encoded data removed]",
      "text/plain": [
       "<Figure size 640x480 with 1 Axes>"
      ]
     },
     "metadata": {},
     "output_type": "display_data"
    },
    {
     "data": {
      "image/png": "[encoded data removed]",
      "text/plain": [
       "<Figure size 640x480 with 1 Axes>"
      ]
     },
     "metadata": {},
     "output_type": "display_data"
    }
   ],
   "source": [
    "\n",
    "# Distribución de las ventas en Norteamérica, Europa y Japón por rating\n",
    "na_rating = sales_to_use.groupby(\"rating\")[\"na_sales\"].sum()\n",
    "\n",
    "na_rating.plot(kind='bar')\n",
    "plt.xlabel('Rating')\n",
    "plt.ylabel('Ventas Totales (millones)')\n",
    "plt.title('Distribución de Ventas en Norteamérica por rating')\n",
    "plt.show()\n",
    "\n",
    "eu_rating = sales_to_use.groupby(\"rating\")[\"eu_sales\"].sum().plot(kind=\"bar\")\n",
    "\n",
    "eu_rating.plot(kind='bar')\n",
    "plt.xlabel('Rating')\n",
    "plt.ylabel('Ventas Totales (millones)')\n",
    "plt.title('Distribución de Ventas en Europa por rating')\n",
    "plt.show()\n",
    "\n",
    "jp_rating = sales_to_use.groupby(\"rating\")[\"jp_sales\"].sum().plot(kind=\"bar\")\n",
    "\n",
    "jp_rating.plot(kind='bar')\n",
    "plt.xlabel('Rating')\n",
    "plt.ylabel('Ventas Totales (millones)')\n",
    "plt.title('Distribución de Ventas en Japón por rating')\n",
    "plt.show()\n",
    "\n",
    "\n"
   ]
  },
  {
   "cell_type": "markdown",
   "metadata": {},
   "source": [
    "Para que pueda quedar más claro las gráficas anteriores aqui pongo el significado de la clasificación ESRB\n",
    "\n",
    "1. Infantil (EC - Early Childhood):\n",
    "\n",
    "* Juegos adecuados para niños de 3 años en adelante.\n",
    "* El contenido puede incluir violencia mínima, fantasía o violencia suave.\n",
    "\n",
    "2. Para Todos (E - Everyone):\n",
    "\n",
    "* Juegos adecuados para todas las edades.\n",
    "* El contenido puede contener violencia mínima, fantasía o violencia suave y/o uso poco frecuente de lenguaje suave.\n",
    "\n",
    "3. Para Todos 10+ (E10+ - Everyone 10+):\n",
    "\n",
    "* Juegos adecuados para personas de 10 años en adelante.\n",
    "* El contenido puede contener más violencia de dibujos animados, fantasía o violencia suave, lenguaje suave y/o temas sugerentes mínimos.\n",
    "\n",
    "4. Adolescentes (T - Teen):\n",
    "\n",
    "* Juegos adecuados para personas de 13 años en adelante.\n",
    "* El contenido puede incluir violencia, temas sugestivos, humor grosero, sangre mínima, apuestas simuladas y/o uso poco frecuente de lenguaje fuerte.\n",
    "\n",
    "5. Maduro (M - Mature):\n",
    "\n",
    "* Juegos adecuados para personas de 17 años en adelante.\n",
    "* El contenido puede incluir violencia intensa, sangre y gore, contenido sexual y/o lenguaje fuerte.\n",
    "\n",
    "6. Solo Adultos (AO - Adults Only):\n",
    "\n",
    "* Juegos adecuados solo para adultos de 18 años en adelante.\n",
    "* El contenido puede incluir escenas prolongadas de violencia intensa, contenido sexual gráfico y/o juego con moneda real.\n",
    "\n",
    "7. Clasificación Pendiente (RP - Rating Pending):\n",
    "\n",
    "* Indica que un juego ha sido presentado al ESRB y está esperando una clasificación final."
   ]
  },
  {
   "cell_type": "markdown",
   "metadata": {},
   "source": [
    "Las gráficas anteriores nos pueden ayudar a segmentar los mercados con base al tipo de usuarios que generan la mayor cantidad de compras en cada región"
   ]
  },
  {
   "cell_type": "markdown",
   "metadata": {},
   "source": [
    "## Prueba de hipótesis"
   ]
  },
  {
   "cell_type": "markdown",
   "metadata": {},
   "source": [
    "Vamos a realizar dos pruebas de hipótesis\n"
   ]
  },
  {
   "cell_type": "markdown",
   "metadata": {},
   "source": [
    "Primera prueba\n",
    "\n",
    "Hipótesis nula(H0): Las calificaciones promedio de los usuarios para las plataformas Xbox One y PC son las mismas.\n",
    "Hipótesis alternativa(H1): Las calificaciones promedio de los usuarios para las plataformas Xbox One y PC no son las mismas"
   ]
  },
  {
   "cell_type": "code",
   "execution_count": 119,
   "metadata": {},
   "outputs": [
    {
     "name": "stdout",
     "output_type": "stream",
     "text": [
      "T-Statistic: -1.9566469102240367\n",
      "P-Value: 0.05102717269308569\n",
      "No podemos rechazar la hipótesis nula\n"
     ]
    }
   ],
   "source": [
    "# Extraer las reseñas de usuarios para XOne y PC\n",
    "xone_scores = sales_to_use[sales_to_use['platform'] == 'XOne']['user_score']\n",
    "pc_scores = sales_to_use[sales_to_use['platform'] == 'PC']['user_score']\n",
    "\n",
    "# Realizar la prueba t de student\n",
    "# H0: Las puntuaciones medias de los usuarios para XOne y PC son iguales\n",
    "# h1: Las puntuaciones medias de los usuarios para XOne y PC son diferentes\n",
    "t_statistic, p_value = stats.ttest_ind(xone_scores, pc_scores, equal_var=False)\n",
    "\n",
    "# Definir el valor alpha\n",
    "alpha = 0.05\n",
    "\n",
    "# Imprimir los resultados\n",
    "print(\"T-Statistic:\", t_statistic)\n",
    "print(\"P-Value:\", p_value)\n",
    "\n",
    "# Interpretar los resultados\n",
    "if p_value < alpha:\n",
    "    print(\"Rechazamos la hipótesis nula\")\n",
    "else:\n",
    "    print(\"No podemos rechazar la hipótesis nula\")"
   ]
  },
  {
   "cell_type": "markdown",
   "metadata": {},
   "source": [
    "En la primer prueba de hipótesis, estadísticamente no se pudo rechazar la hipótesis nula que es que las puntuaciones medias de los usuarios para XOne y PC son iguales, aunque estuvimos cerca ya que para rechazarla el P-value tuvo que ser menos a nuestro umbral alpha 0.05"
   ]
  },
  {
   "cell_type": "markdown",
   "metadata": {},
   "source": [
    "***********************"
   ]
  },
  {
   "cell_type": "markdown",
   "metadata": {},
   "source": [
    "Segunda prueba\n",
    "\n",
    "Hipótesis nula: Las calificaciones promedio de los usuarios para los géneros de Acción y Deportes son diferentes.\n",
    "Hiótesis alternativa: Las calificaciones promedio de los usuarios para los géneros de Acción y Deportes son diferentes."
   ]
  },
  {
   "cell_type": "code",
   "execution_count": 120,
   "metadata": {},
   "outputs": [
    {
     "name": "stdout",
     "output_type": "stream",
     "text": [
      "T-Statistic: 3.8877662473763226\n",
      "P-Value: 0.00010444655536335578\n",
      "Rechazamos la hipótesis nula\n"
     ]
    }
   ],
   "source": [
    "# Extraer las reseñas de usuarios para XOne y PC\n",
    "action_scores = sales_to_use[sales_to_use['genre'] == 'Action']['user_score']\n",
    "sports_scores = sales_to_use[sales_to_use['genre'] == 'Sports']['user_score']\n",
    "\n",
    "# Realizar la prueba t de student\n",
    "# H0: Las puntuaciones medias de los usuarios para el genero Acción y Deportes son iguales\n",
    "# h1: Las puntuaciones medias de los usuarios para el genero Acción y Deportes son diferentes\n",
    "t_statistic, p_value = stats.ttest_ind(action_scores, sports_scores, equal_var=False)\n",
    "\n",
    "# Definir el valor alpha\n",
    "alpha = 0.05\n",
    "\n",
    "# Imprimir los resultados\n",
    "print(\"T-Statistic:\", t_statistic)\n",
    "print(\"P-Value:\", p_value)\n",
    "\n",
    "# Interpretar los resultados\n",
    "if p_value < alpha:\n",
    "    print(\"Rechazamos la hipótesis nula\")\n",
    "else:\n",
    "    print(\"No podemos rechazar la hipótesis nula\")"
   ]
  },
  {
   "cell_type": "markdown",
   "metadata": {},
   "source": [
    "En la segunda prueba de hipótesis, estadísticamente se pudo rechazar la hipótesis nula que es que las puntuaciones medias de los usuarios para el genero Acción y Deportes son iguales, entonces, aceptaríamos al hipótesis alternativa que dice que son diferentes."
   ]
  },
  {
   "cell_type": "markdown",
   "metadata": {},
   "source": [
    "## Conclusión general"
   ]
  },
  {
   "cell_type": "markdown",
   "metadata": {},
   "source": [
    "Después de realizar el análisis en el comportamiento de la vengas de videojuegos online en las regiones de Norteamérica, Europa y Japón pudimos obtener conclusiones muy valiosas que nos ayudarán a determinar las estrategias de marketing para el 2017.\n",
    "\n",
    "Sabemos cuales son los genéneros más vendidos, en que plataformas y en que regiones del mundo, también la relación que tienen con las ventas las clasificaciones establecidas por el ESRB y las reseñas de usuarios y criticos de la industria. Podriamos inclusive ver que tanta influencia tienen estas reseñas en la venta de ciertos videojuegos , y con ello ver si es una variable de peso o no al momento de planear las estrategias de marketing.\n",
    "\n",
    "También pudimos determinar la vida media util de una plataforma y el comportamiento del lanzamiento de los videojuegos en cada una con relación a ello. Se apreció como las plataformas lideres en el mercado tienen tendencias muy parecidas tanto en el momento en que sale un nuevo modelo de plataforma como cuando se esta acercando al fin de su vida útil.\n",
    "\n",
    "Con base en todos los análisis realizados en este estudio tenemos suficiente información para poder planear una estrategia de marketing exitosa para el 2017.\n",
    "\n"
   ]
  }
 ],
 "metadata": {
  "kernelspec": {
   "display_name": "Python 3",
   "language": "python",
   "name": "python3"
  },
  "language_info": {
   "codemirror_mode": {
    "name": "ipython",
    "version": 3
   },
   "file_extension": ".py",
   "mimetype": "text/x-python",
   "name": "python",
   "nbconvert_exporter": "python",
   "pygments_lexer": "ipython3",
   "version": "3.11.7"
  }
 },
 "nbformat": 4,
 "nbformat_minor": 2
}
